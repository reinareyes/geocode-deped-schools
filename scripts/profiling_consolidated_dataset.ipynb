{
 "cells": [
  {
   "cell_type": "code",
   "execution_count": 20,
   "metadata": {},
   "outputs": [],
   "source": [
    "import numpy as np\n",
    "import pandas as pd\n",
    "import haversine\n",
    "import math\n",
    "import matplotlib.pyplot as plt\n",
    "%matplotlib inline"
   ]
  },
  {
   "cell_type": "code",
   "execution_count": 2,
   "metadata": {},
   "outputs": [],
   "source": [
    "fn = \"../input/deped_school_location_with_enrolment_2017_2018_consolidated.csv\"\n",
    "df = pd.read_csv(fn)"
   ]
  },
  {
   "cell_type": "code",
   "execution_count": 3,
   "metadata": {},
   "outputs": [
    {
     "data": {
      "text/html": [
       "<div>\n",
       "<style scoped>\n",
       "    .dataframe tbody tr th:only-of-type {\n",
       "        vertical-align: middle;\n",
       "    }\n",
       "\n",
       "    .dataframe tbody tr th {\n",
       "        vertical-align: top;\n",
       "    }\n",
       "\n",
       "    .dataframe thead th {\n",
       "        text-align: right;\n",
       "    }\n",
       "</style>\n",
       "<table border=\"1\" class=\"dataframe\">\n",
       "  <thead>\n",
       "    <tr style=\"text-align: right;\">\n",
       "      <th></th>\n",
       "      <th>SCHOOL ID</th>\n",
       "      <th>SCHOOL NAME</th>\n",
       "      <th>DIVISION</th>\n",
       "      <th>ADDRESS</th>\n",
       "      <th>DEPED_BARANGAY</th>\n",
       "      <th>DEPED_MUNICIPALITY</th>\n",
       "      <th>DEPED_REGION</th>\n",
       "      <th>DEPED_COORD</th>\n",
       "      <th>DEPED_LONGITUDE</th>\n",
       "      <th>DEPED_LATITUDE</th>\n",
       "      <th>...</th>\n",
       "      <th>LATITUDE</th>\n",
       "      <th>PSGC_BARANGAY</th>\n",
       "      <th>BARANGAY</th>\n",
       "      <th>PSGC_MUNICIPALITY</th>\n",
       "      <th>MUNICIPALITY</th>\n",
       "      <th>PSGC_PROVINCE</th>\n",
       "      <th>PROVINCE</th>\n",
       "      <th>PSGC_REGION</th>\n",
       "      <th>REGION</th>\n",
       "      <th>DELTA_KM</th>\n",
       "    </tr>\n",
       "  </thead>\n",
       "  <tbody>\n",
       "    <tr>\n",
       "      <th>0</th>\n",
       "      <td>100160</td>\n",
       "      <td>ADAMS CES</td>\n",
       "      <td>ILOCOS NORTE</td>\n",
       "      <td>POB. 1, ADAMS, ILOCOS NORTE</td>\n",
       "      <td>ADAMS (POB.)</td>\n",
       "      <td>ADAMS</td>\n",
       "      <td>REGION I</td>\n",
       "      <td>1</td>\n",
       "      <td>120.901845</td>\n",
       "      <td>18.462302</td>\n",
       "      <td>...</td>\n",
       "      <td>18.462302</td>\n",
       "      <td>PH012801001</td>\n",
       "      <td>ADAMS (POB.)</td>\n",
       "      <td>PH012801000</td>\n",
       "      <td>ADAMS</td>\n",
       "      <td>PH012800000</td>\n",
       "      <td>ILOCOS NORTE</td>\n",
       "      <td>PH010000000</td>\n",
       "      <td>REGION I (ILOCOS REGION)</td>\n",
       "      <td>NaN</td>\n",
       "    </tr>\n",
       "    <tr>\n",
       "      <th>1</th>\n",
       "      <td>100163</td>\n",
       "      <td>BUCAROT PS</td>\n",
       "      <td>ILOCOS NORTE</td>\n",
       "      <td>BUCAROT, ADAMS, ILOCOS NORTE</td>\n",
       "      <td>ADAMS (POB.)</td>\n",
       "      <td>ADAMS</td>\n",
       "      <td>REGION I</td>\n",
       "      <td>1</td>\n",
       "      <td>120.903605</td>\n",
       "      <td>18.462088</td>\n",
       "      <td>...</td>\n",
       "      <td>18.462088</td>\n",
       "      <td>PH012801001</td>\n",
       "      <td>ADAMS (POB.)</td>\n",
       "      <td>PH012801000</td>\n",
       "      <td>ADAMS</td>\n",
       "      <td>PH012800000</td>\n",
       "      <td>ILOCOS NORTE</td>\n",
       "      <td>PH010000000</td>\n",
       "      <td>REGION I (ILOCOS REGION)</td>\n",
       "      <td>NaN</td>\n",
       "    </tr>\n",
       "  </tbody>\n",
       "</table>\n",
       "<p>2 rows × 26 columns</p>\n",
       "</div>"
      ],
      "text/plain": [
       "   SCHOOL ID SCHOOL NAME      DIVISION                       ADDRESS  \\\n",
       "0     100160   ADAMS CES  ILOCOS NORTE   POB. 1, ADAMS, ILOCOS NORTE   \n",
       "1     100163  BUCAROT PS  ILOCOS NORTE  BUCAROT, ADAMS, ILOCOS NORTE   \n",
       "\n",
       "  DEPED_BARANGAY DEPED_MUNICIPALITY DEPED_REGION  DEPED_COORD  \\\n",
       "0   ADAMS (POB.)              ADAMS     REGION I            1   \n",
       "1   ADAMS (POB.)              ADAMS     REGION I            1   \n",
       "\n",
       "   DEPED_LONGITUDE  DEPED_LATITUDE  ...   LATITUDE  PSGC_BARANGAY  \\\n",
       "0       120.901845       18.462302  ...  18.462302    PH012801001   \n",
       "1       120.903605       18.462088  ...  18.462088    PH012801001   \n",
       "\n",
       "       BARANGAY  PSGC_MUNICIPALITY MUNICIPALITY  PSGC_PROVINCE      PROVINCE  \\\n",
       "0  ADAMS (POB.)        PH012801000        ADAMS    PH012800000  ILOCOS NORTE   \n",
       "1  ADAMS (POB.)        PH012801000        ADAMS    PH012800000  ILOCOS NORTE   \n",
       "\n",
       "   PSGC_REGION                    REGION DELTA_KM  \n",
       "0  PH010000000  REGION I (ILOCOS REGION)      NaN  \n",
       "1  PH010000000  REGION I (ILOCOS REGION)      NaN  \n",
       "\n",
       "[2 rows x 26 columns]"
      ]
     },
     "execution_count": 3,
     "metadata": {},
     "output_type": "execute_result"
    }
   ],
   "source": [
    "df.head(2)"
   ]
  },
  {
   "cell_type": "code",
   "execution_count": 46,
   "metadata": {},
   "outputs": [
    {
     "data": {
      "text/html": [
       "<div>\n",
       "<style scoped>\n",
       "    .dataframe tbody tr th:only-of-type {\n",
       "        vertical-align: middle;\n",
       "    }\n",
       "\n",
       "    .dataframe tbody tr th {\n",
       "        vertical-align: top;\n",
       "    }\n",
       "\n",
       "    .dataframe thead th {\n",
       "        text-align: right;\n",
       "    }\n",
       "</style>\n",
       "<table border=\"1\" class=\"dataframe\">\n",
       "  <thead>\n",
       "    <tr style=\"text-align: right;\">\n",
       "      <th></th>\n",
       "      <th>SCHOOL ID</th>\n",
       "      <th>SCHOOL NAME</th>\n",
       "      <th>DIVISION</th>\n",
       "      <th>ADDRESS</th>\n",
       "      <th>DEPED_BARANGAY</th>\n",
       "      <th>DEPED_MUNICIPALITY</th>\n",
       "      <th>DEPED_REGION</th>\n",
       "      <th>DEPED_COORD</th>\n",
       "      <th>DEPED_LONGITUDE</th>\n",
       "      <th>DEPED_LATITUDE</th>\n",
       "      <th>...</th>\n",
       "      <th>LATITUDE</th>\n",
       "      <th>PSGC_BARANGAY</th>\n",
       "      <th>BARANGAY</th>\n",
       "      <th>PSGC_MUNICIPALITY</th>\n",
       "      <th>MUNICIPALITY</th>\n",
       "      <th>PSGC_PROVINCE</th>\n",
       "      <th>PROVINCE</th>\n",
       "      <th>PSGC_REGION</th>\n",
       "      <th>REGION</th>\n",
       "      <th>DELTA_KM</th>\n",
       "    </tr>\n",
       "  </thead>\n",
       "  <tbody>\n",
       "    <tr>\n",
       "      <th>15180</th>\n",
       "      <td>111788</td>\n",
       "      <td>BUGA ELEMENTARY SCHOOL</td>\n",
       "      <td>ALBAY</td>\n",
       "      <td>ZONE 3, BUGA, LIBON, ALBAY</td>\n",
       "      <td>BUGA</td>\n",
       "      <td>LIBON</td>\n",
       "      <td>REGION V</td>\n",
       "      <td>1</td>\n",
       "      <td>123.359035</td>\n",
       "      <td>13.296122</td>\n",
       "      <td>...</td>\n",
       "      <td>13.296122</td>\n",
       "      <td>PH050507013</td>\n",
       "      <td>BUGA</td>\n",
       "      <td>PH050507000</td>\n",
       "      <td>LIBON</td>\n",
       "      <td>PH050500000</td>\n",
       "      <td>ALBAY</td>\n",
       "      <td>PH050000000</td>\n",
       "      <td>REGION V (BICOL REGION)</td>\n",
       "      <td>NaN</td>\n",
       "    </tr>\n",
       "  </tbody>\n",
       "</table>\n",
       "<p>1 rows × 26 columns</p>\n",
       "</div>"
      ],
      "text/plain": [
       "       SCHOOL ID             SCHOOL NAME DIVISION                     ADDRESS  \\\n",
       "15180     111788  BUGA ELEMENTARY SCHOOL    ALBAY  ZONE 3, BUGA, LIBON, ALBAY   \n",
       "\n",
       "      DEPED_BARANGAY DEPED_MUNICIPALITY DEPED_REGION  DEPED_COORD  \\\n",
       "15180           BUGA              LIBON     REGION V            1   \n",
       "\n",
       "       DEPED_LONGITUDE  DEPED_LATITUDE  ...   LATITUDE  PSGC_BARANGAY  \\\n",
       "15180       123.359035       13.296122  ...  13.296122    PH050507013   \n",
       "\n",
       "       BARANGAY  PSGC_MUNICIPALITY MUNICIPALITY  PSGC_PROVINCE  PROVINCE  \\\n",
       "15180      BUGA        PH050507000        LIBON    PH050500000     ALBAY   \n",
       "\n",
       "       PSGC_REGION                   REGION DELTA_KM  \n",
       "15180  PH050000000  REGION V (BICOL REGION)      NaN  \n",
       "\n",
       "[1 rows x 26 columns]"
      ]
     },
     "execution_count": 46,
     "metadata": {},
     "output_type": "execute_result"
    }
   ],
   "source": [
    "df[df[\"SCHOOL ID\"]==111788]"
   ]
  },
  {
   "cell_type": "code",
   "execution_count": 4,
   "metadata": {},
   "outputs": [
    {
     "data": {
      "text/plain": [
       "Index([u'SCHOOL ID', u'SCHOOL NAME', u'DIVISION', u'ADDRESS',\n",
       "       u'DEPED_BARANGAY', u'DEPED_MUNICIPALITY', u'DEPED_REGION',\n",
       "       u'DEPED_COORD', u'DEPED_LONGITUDE', u'DEPED_LATITUDE', u'GMAP_COORD',\n",
       "       u'GMAP_LONGITUDE', u'GMAP_LATITUDE', u'GMAP_DELTA_KM', u'SOURCE_COORD',\n",
       "       u'LONGITUDE', u'LATITUDE', u'PSGC_BARANGAY', u'BARANGAY',\n",
       "       u'PSGC_MUNICIPALITY', u'MUNICIPALITY', u'PSGC_PROVINCE', u'PROVINCE',\n",
       "       u'PSGC_REGION', u'REGION', u'DELTA_KM'],\n",
       "      dtype='object')"
      ]
     },
     "execution_count": 4,
     "metadata": {},
     "output_type": "execute_result"
    }
   ],
   "source": [
    "df.columns"
   ]
  },
  {
   "cell_type": "code",
   "execution_count": 5,
   "metadata": {},
   "outputs": [
    {
     "data": {
      "text/plain": [
       "47358"
      ]
     },
     "execution_count": 5,
     "metadata": {},
     "output_type": "execute_result"
    }
   ],
   "source": [
    "len(df)"
   ]
  },
  {
   "cell_type": "code",
   "execution_count": 6,
   "metadata": {},
   "outputs": [
    {
     "data": {
      "text/plain": [
       "1    41712\n",
       "0     5144\n",
       "2      367\n",
       "3      135\n",
       "Name: DEPED_COORD, dtype: int64"
      ]
     },
     "execution_count": 6,
     "metadata": {},
     "output_type": "execute_result"
    }
   ],
   "source": [
    "df[\"DEPED_COORD\"].value_counts()"
   ]
  },
  {
   "cell_type": "code",
   "execution_count": 12,
   "metadata": {},
   "outputs": [
    {
     "data": {
      "text/plain": [
       "(42214, 0.8913805481650408)"
      ]
     },
     "execution_count": 12,
     "metadata": {},
     "output_type": "execute_result"
    }
   ],
   "source": [
    "nmapped = (len(df)-5144)\n",
    "nmapped, (len(df)-5144)*1./len(df) "
   ]
  },
  {
   "cell_type": "code",
   "execution_count": 13,
   "metadata": {},
   "outputs": [
    {
     "data": {
      "text/plain": [
       "0.9881082105462643"
      ]
     },
     "execution_count": 13,
     "metadata": {},
     "output_type": "execute_result"
    }
   ],
   "source": [
    "41712*1./nmapped"
   ]
  },
  {
   "cell_type": "code",
   "execution_count": 14,
   "metadata": {},
   "outputs": [
    {
     "data": {
      "text/plain": [
       "(0.008646420618752072, 0.003197991187757616)"
      ]
     },
     "execution_count": 14,
     "metadata": {},
     "output_type": "execute_result"
    }
   ],
   "source": [
    "365./nmapped, 135./nmapped"
   ]
  },
  {
   "cell_type": "code",
   "execution_count": 15,
   "metadata": {},
   "outputs": [
    {
     "data": {
      "text/plain": [
       "DEPED    41712\n",
       "GMAP      3621\n",
       "Name: SOURCE_COORD, dtype: int64"
      ]
     },
     "execution_count": 15,
     "metadata": {},
     "output_type": "execute_result"
    }
   ],
   "source": [
    "df[\"SOURCE_COORD\"].value_counts()"
   ]
  },
  {
   "cell_type": "code",
   "execution_count": 44,
   "metadata": {},
   "outputs": [
    {
     "data": {
      "text/plain": [
       "(45333, 0.9572405929304447)"
      ]
     },
     "execution_count": 44,
     "metadata": {},
     "output_type": "execute_result"
    }
   ],
   "source": [
    "df[\"SOURCE_COORD\"].value_counts().sum(), df[\"SOURCE_COORD\"].value_counts().sum()*1./len(df)"
   ]
  },
  {
   "cell_type": "code",
   "execution_count": 45,
   "metadata": {},
   "outputs": [
    {
     "data": {
      "text/plain": [
       "0.8807804383631066"
      ]
     },
     "execution_count": 45,
     "metadata": {},
     "output_type": "execute_result"
    }
   ],
   "source": [
    "41712./len(df)"
   ]
  },
  {
   "cell_type": "code",
   "execution_count": 16,
   "metadata": {},
   "outputs": [
    {
     "data": {
      "text/plain": [
       "3454"
      ]
     },
     "execution_count": 16,
     "metadata": {},
     "output_type": "execute_result"
    }
   ],
   "source": [
    "df1 = df[df[\"SOURCE_COORD\"]==\"GMAP\"]\n",
    "len(df1[df1[\"GMAP_DELTA_KM\"]<100.])"
   ]
  },
  {
   "cell_type": "code",
   "execution_count": 17,
   "metadata": {},
   "outputs": [
    {
     "data": {
      "text/plain": [
       "0.9538801436067385"
      ]
     },
     "execution_count": 17,
     "metadata": {},
     "output_type": "execute_result"
    }
   ],
   "source": [
    "3454./3621"
   ]
  },
  {
   "cell_type": "code",
   "execution_count": 24,
   "metadata": {},
   "outputs": [
    {
     "data": {
      "text/plain": [
       "<matplotlib.axes._subplots.AxesSubplot at 0x1213976d0>"
      ]
     },
     "execution_count": 24,
     "metadata": {},
     "output_type": "execute_result"
    },
    {
     "data": {
      "image/png": "[encoded data removed]",
      "text/plain": [
       "<Figure size 432x288 with 1 Axes>"
      ]
     },
     "metadata": {
      "needs_background": "light"
     },
     "output_type": "display_data"
    }
   ],
   "source": [
    "df1.loc[df1[\"GMAP_DELTA_KM\"]<200, \"GMAP_DELTA_KM\"].hist()"
   ]
  },
  {
   "cell_type": "code",
   "execution_count": 26,
   "metadata": {},
   "outputs": [
    {
     "data": {
      "text/plain": [
       "1    301\n",
       "0    170\n",
       "2     31\n",
       "Name: GMAP_COORD, dtype: int64"
      ]
     },
     "execution_count": 26,
     "metadata": {},
     "output_type": "execute_result"
    }
   ],
   "source": [
    "df.loc[(df[\"DEPED_COORD\"]>=2), \"GMAP_COORD\"].value_counts()"
   ]
  },
  {
   "cell_type": "code",
   "execution_count": 28,
   "metadata": {},
   "outputs": [
    {
     "data": {
      "text/plain": [
       "280"
      ]
     },
     "execution_count": 28,
     "metadata": {},
     "output_type": "execute_result"
    }
   ],
   "source": [
    "len(df[((df[\"DEPED_COORD\"]>=2) & (df[\"GMAP_COORD\"]==1)) & (df[\"GMAP_DELTA_KM\"]<100.)])"
   ]
  },
  {
   "cell_type": "code",
   "execution_count": null,
   "metadata": {},
   "outputs": [],
   "source": []
  },
  {
   "cell_type": "code",
   "execution_count": 27,
   "metadata": {},
   "outputs": [
    {
     "data": {
      "text/plain": [
       "1    3320\n",
       "0    1632\n",
       "2     192\n",
       "Name: GMAP_COORD, dtype: int64"
      ]
     },
     "execution_count": 27,
     "metadata": {},
     "output_type": "execute_result"
    }
   ],
   "source": [
    "df.loc[(df[\"DEPED_COORD\"]==0), \"GMAP_COORD\"].value_counts()"
   ]
  },
  {
   "cell_type": "code",
   "execution_count": 29,
   "metadata": {},
   "outputs": [
    {
     "data": {
      "text/plain": [
       "3174"
      ]
     },
     "execution_count": 29,
     "metadata": {},
     "output_type": "execute_result"
    }
   ],
   "source": [
    "len(df[((df[\"DEPED_COORD\"]==0) & (df[\"GMAP_COORD\"]==1)) & (df[\"GMAP_DELTA_KM\"]<100.)])"
   ]
  },
  {
   "cell_type": "code",
   "execution_count": 36,
   "metadata": {},
   "outputs": [],
   "source": [
    "region = df[\"DEPED_REGION\"].value_counts()"
   ]
  },
  {
   "cell_type": "code",
   "execution_count": 35,
   "metadata": {},
   "outputs": [],
   "source": [
    "region2 = df.loc[df[\"SOURCE_COORD\"].notnull(), \"DEPED_REGION\"].value_counts()"
   ]
  },
  {
   "cell_type": "code",
   "execution_count": 41,
   "metadata": {},
   "outputs": [],
   "source": [
    "region1 = df.loc[df[\"DEPED_COORD\"]>0, \"DEPED_REGION\"].value_counts()"
   ]
  },
  {
   "cell_type": "code",
   "execution_count": 40,
   "metadata": {},
   "outputs": [
    {
     "data": {
      "text/html": [
       "<div>\n",
       "<style scoped>\n",
       "    .dataframe tbody tr th:only-of-type {\n",
       "        vertical-align: middle;\n",
       "    }\n",
       "\n",
       "    .dataframe tbody tr th {\n",
       "        vertical-align: top;\n",
       "    }\n",
       "\n",
       "    .dataframe thead th {\n",
       "        text-align: right;\n",
       "    }\n",
       "</style>\n",
       "<table border=\"1\" class=\"dataframe\">\n",
       "  <thead>\n",
       "    <tr style=\"text-align: right;\">\n",
       "      <th></th>\n",
       "      <th>DEPED_REGION_x</th>\n",
       "      <th>DEPED_REGION_y</th>\n",
       "      <th>PCT</th>\n",
       "    </tr>\n",
       "  </thead>\n",
       "  <tbody>\n",
       "    <tr>\n",
       "      <th>REGION V</th>\n",
       "      <td>3824</td>\n",
       "      <td>3785</td>\n",
       "      <td>0.989801</td>\n",
       "    </tr>\n",
       "    <tr>\n",
       "      <th>CAR</th>\n",
       "      <td>1829</td>\n",
       "      <td>1810</td>\n",
       "      <td>0.989612</td>\n",
       "    </tr>\n",
       "    <tr>\n",
       "      <th>REGION I</th>\n",
       "      <td>2872</td>\n",
       "      <td>2837</td>\n",
       "      <td>0.987813</td>\n",
       "    </tr>\n",
       "    <tr>\n",
       "      <th>NCR</th>\n",
       "      <td>819</td>\n",
       "      <td>807</td>\n",
       "      <td>0.985348</td>\n",
       "    </tr>\n",
       "    <tr>\n",
       "      <th>REGION IX</th>\n",
       "      <td>2551</td>\n",
       "      <td>2513</td>\n",
       "      <td>0.985104</td>\n",
       "    </tr>\n",
       "    <tr>\n",
       "      <th>REGION IV-A</th>\n",
       "      <td>3550</td>\n",
       "      <td>3497</td>\n",
       "      <td>0.985070</td>\n",
       "    </tr>\n",
       "    <tr>\n",
       "      <th>REGION III</th>\n",
       "      <td>3670</td>\n",
       "      <td>3614</td>\n",
       "      <td>0.984741</td>\n",
       "    </tr>\n",
       "    <tr>\n",
       "      <th>REGION VI</th>\n",
       "      <td>4035</td>\n",
       "      <td>3963</td>\n",
       "      <td>0.982156</td>\n",
       "    </tr>\n",
       "    <tr>\n",
       "      <th>REGION VIII</th>\n",
       "      <td>4190</td>\n",
       "      <td>4102</td>\n",
       "      <td>0.978998</td>\n",
       "    </tr>\n",
       "    <tr>\n",
       "      <th>CARAGA</th>\n",
       "      <td>2071</td>\n",
       "      <td>1996</td>\n",
       "      <td>0.963786</td>\n",
       "    </tr>\n",
       "    <tr>\n",
       "      <th>REGION IV-B</th>\n",
       "      <td>2337</td>\n",
       "      <td>2252</td>\n",
       "      <td>0.963629</td>\n",
       "    </tr>\n",
       "    <tr>\n",
       "      <th>REGION VII</th>\n",
       "      <td>3744</td>\n",
       "      <td>3606</td>\n",
       "      <td>0.963141</td>\n",
       "    </tr>\n",
       "    <tr>\n",
       "      <th>REGION X</th>\n",
       "      <td>2523</td>\n",
       "      <td>2391</td>\n",
       "      <td>0.947681</td>\n",
       "    </tr>\n",
       "    <tr>\n",
       "      <th>REGION XI</th>\n",
       "      <td>2075</td>\n",
       "      <td>1964</td>\n",
       "      <td>0.946506</td>\n",
       "    </tr>\n",
       "    <tr>\n",
       "      <th>REGION II</th>\n",
       "      <td>2535</td>\n",
       "      <td>2341</td>\n",
       "      <td>0.923471</td>\n",
       "    </tr>\n",
       "    <tr>\n",
       "      <th>REGION XII</th>\n",
       "      <td>2238</td>\n",
       "      <td>2063</td>\n",
       "      <td>0.921805</td>\n",
       "    </tr>\n",
       "    <tr>\n",
       "      <th>ARMM</th>\n",
       "      <td>2495</td>\n",
       "      <td>1792</td>\n",
       "      <td>0.718236</td>\n",
       "    </tr>\n",
       "  </tbody>\n",
       "</table>\n",
       "</div>"
      ],
      "text/plain": [
       "             DEPED_REGION_x  DEPED_REGION_y       PCT\n",
       "REGION V               3824            3785  0.989801\n",
       "CAR                    1829            1810  0.989612\n",
       "REGION I               2872            2837  0.987813\n",
       "NCR                     819             807  0.985348\n",
       "REGION IX              2551            2513  0.985104\n",
       "REGION IV-A            3550            3497  0.985070\n",
       "REGION III             3670            3614  0.984741\n",
       "REGION VI              4035            3963  0.982156\n",
       "REGION VIII            4190            4102  0.978998\n",
       "CARAGA                 2071            1996  0.963786\n",
       "REGION IV-B            2337            2252  0.963629\n",
       "REGION VII             3744            3606  0.963141\n",
       "REGION X               2523            2391  0.947681\n",
       "REGION XI              2075            1964  0.946506\n",
       "REGION II              2535            2341  0.923471\n",
       "REGION XII             2238            2063  0.921805\n",
       "ARMM                   2495            1792  0.718236"
      ]
     },
     "execution_count": 40,
     "metadata": {},
     "output_type": "execute_result"
    }
   ],
   "source": [
    "df_region = pd.merge(region, region2, left_index=True, right_index=True)\n",
    "df_region[\"PCT\"] = df_region[\"DEPED_REGION_y\"]*1./df_region[\"DEPED_REGION_x\"]\n",
    "df_region.sort_values(by=\"PCT\", ascending=False)"
   ]
  },
  {
   "cell_type": "code",
   "execution_count": 42,
   "metadata": {},
   "outputs": [
    {
     "data": {
      "text/html": [
       "<div>\n",
       "<style scoped>\n",
       "    .dataframe tbody tr th:only-of-type {\n",
       "        vertical-align: middle;\n",
       "    }\n",
       "\n",
       "    .dataframe tbody tr th {\n",
       "        vertical-align: top;\n",
       "    }\n",
       "\n",
       "    .dataframe thead th {\n",
       "        text-align: right;\n",
       "    }\n",
       "</style>\n",
       "<table border=\"1\" class=\"dataframe\">\n",
       "  <thead>\n",
       "    <tr style=\"text-align: right;\">\n",
       "      <th></th>\n",
       "      <th>DEPED_REGION_x</th>\n",
       "      <th>DEPED_REGION_y</th>\n",
       "      <th>PCT</th>\n",
       "    </tr>\n",
       "  </thead>\n",
       "  <tbody>\n",
       "    <tr>\n",
       "      <th>CAR</th>\n",
       "      <td>1829</td>\n",
       "      <td>1794</td>\n",
       "      <td>0.980864</td>\n",
       "    </tr>\n",
       "    <tr>\n",
       "      <th>REGION V</th>\n",
       "      <td>3824</td>\n",
       "      <td>3725</td>\n",
       "      <td>0.974111</td>\n",
       "    </tr>\n",
       "    <tr>\n",
       "      <th>REGION IX</th>\n",
       "      <td>2551</td>\n",
       "      <td>2470</td>\n",
       "      <td>0.968248</td>\n",
       "    </tr>\n",
       "    <tr>\n",
       "      <th>REGION VI</th>\n",
       "      <td>4035</td>\n",
       "      <td>3879</td>\n",
       "      <td>0.961338</td>\n",
       "    </tr>\n",
       "    <tr>\n",
       "      <th>REGION VIII</th>\n",
       "      <td>4190</td>\n",
       "      <td>4000</td>\n",
       "      <td>0.954654</td>\n",
       "    </tr>\n",
       "    <tr>\n",
       "      <th>REGION I</th>\n",
       "      <td>2872</td>\n",
       "      <td>2711</td>\n",
       "      <td>0.943942</td>\n",
       "    </tr>\n",
       "    <tr>\n",
       "      <th>REGION III</th>\n",
       "      <td>3670</td>\n",
       "      <td>3441</td>\n",
       "      <td>0.937602</td>\n",
       "    </tr>\n",
       "    <tr>\n",
       "      <th>REGION IV-B</th>\n",
       "      <td>2337</td>\n",
       "      <td>2191</td>\n",
       "      <td>0.937527</td>\n",
       "    </tr>\n",
       "    <tr>\n",
       "      <th>REGION IV-A</th>\n",
       "      <td>3550</td>\n",
       "      <td>3324</td>\n",
       "      <td>0.936338</td>\n",
       "    </tr>\n",
       "    <tr>\n",
       "      <th>CARAGA</th>\n",
       "      <td>2071</td>\n",
       "      <td>1939</td>\n",
       "      <td>0.936263</td>\n",
       "    </tr>\n",
       "    <tr>\n",
       "      <th>REGION X</th>\n",
       "      <td>2523</td>\n",
       "      <td>2303</td>\n",
       "      <td>0.912802</td>\n",
       "    </tr>\n",
       "    <tr>\n",
       "      <th>REGION XI</th>\n",
       "      <td>2075</td>\n",
       "      <td>1892</td>\n",
       "      <td>0.911807</td>\n",
       "    </tr>\n",
       "    <tr>\n",
       "      <th>REGION VII</th>\n",
       "      <td>3744</td>\n",
       "      <td>3373</td>\n",
       "      <td>0.900908</td>\n",
       "    </tr>\n",
       "    <tr>\n",
       "      <th>REGION XII</th>\n",
       "      <td>2238</td>\n",
       "      <td>2009</td>\n",
       "      <td>0.897676</td>\n",
       "    </tr>\n",
       "    <tr>\n",
       "      <th>NCR</th>\n",
       "      <td>819</td>\n",
       "      <td>723</td>\n",
       "      <td>0.882784</td>\n",
       "    </tr>\n",
       "    <tr>\n",
       "      <th>REGION II</th>\n",
       "      <td>2535</td>\n",
       "      <td>1944</td>\n",
       "      <td>0.766864</td>\n",
       "    </tr>\n",
       "    <tr>\n",
       "      <th>ARMM</th>\n",
       "      <td>2495</td>\n",
       "      <td>496</td>\n",
       "      <td>0.198798</td>\n",
       "    </tr>\n",
       "  </tbody>\n",
       "</table>\n",
       "</div>"
      ],
      "text/plain": [
       "             DEPED_REGION_x  DEPED_REGION_y       PCT\n",
       "CAR                    1829            1794  0.980864\n",
       "REGION V               3824            3725  0.974111\n",
       "REGION IX              2551            2470  0.968248\n",
       "REGION VI              4035            3879  0.961338\n",
       "REGION VIII            4190            4000  0.954654\n",
       "REGION I               2872            2711  0.943942\n",
       "REGION III             3670            3441  0.937602\n",
       "REGION IV-B            2337            2191  0.937527\n",
       "REGION IV-A            3550            3324  0.936338\n",
       "CARAGA                 2071            1939  0.936263\n",
       "REGION X               2523            2303  0.912802\n",
       "REGION XI              2075            1892  0.911807\n",
       "REGION VII             3744            3373  0.900908\n",
       "REGION XII             2238            2009  0.897676\n",
       "NCR                     819             723  0.882784\n",
       "REGION II              2535            1944  0.766864\n",
       "ARMM                   2495             496  0.198798"
      ]
     },
     "execution_count": 42,
     "metadata": {},
     "output_type": "execute_result"
    }
   ],
   "source": [
    "# PCT. of schools mapped by DepEd\n",
    "df_region = pd.merge(region, region1, left_index=True, right_index=True)\n",
    "df_region[\"PCT\"] = df_region[\"DEPED_REGION_y\"]*1./df_region[\"DEPED_REGION_x\"]\n",
    "df_region.sort_values(by=\"PCT\", ascending=False)"
   ]
  },
  {
   "cell_type": "code",
   "execution_count": null,
   "metadata": {},
   "outputs": [],
   "source": []
  }
 ],
 "metadata": {
  "kernelspec": {
   "display_name": "Python 2",
   "language": "python",
   "name": "python2"
  },
  "language_info": {
   "codemirror_mode": {
    "name": "ipython",
    "version": 2
   },
   "file_extension": ".py",
   "mimetype": "text/x-python",
   "name": "python",
   "nbconvert_exporter": "python",
   "pygments_lexer": "ipython2",
   "version": "2.7.16"
  }
 },
 "nbformat": 4,
 "nbformat_minor": 2
}
