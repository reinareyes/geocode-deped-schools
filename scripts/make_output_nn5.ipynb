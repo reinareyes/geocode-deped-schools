{
 "cells": [
  {
   "cell_type": "code",
   "execution_count": 1,
   "metadata": {},
   "outputs": [],
   "source": [
    "import numpy as np\n",
    "import pandas as pd\n",
    "import haversine\n",
    "import math\n",
    "import matplotlib.pyplot as plt\n",
    "%matplotlib inline"
   ]
  },
  {
   "cell_type": "code",
   "execution_count": 2,
   "metadata": {},
   "outputs": [],
   "source": [
    "fn = \"../input/deped_school_location_with_enrolment_2017_2018_consolidated.csv\"\n",
    "df = pd.read_csv(fn)"
   ]
  },
  {
   "cell_type": "code",
   "execution_count": 2,
   "metadata": {},
   "outputs": [],
   "source": [
    "fn_out = \"../output/nn5_ALBAY.csv\""
   ]
  },
  {
   "cell_type": "code",
   "execution_count": 3,
   "metadata": {},
   "outputs": [
    {
     "data": {
      "text/plain": [
       "47358"
      ]
     },
     "execution_count": 3,
     "metadata": {},
     "output_type": "execute_result"
    }
   ],
   "source": [
    "len(df)"
   ]
  },
  {
   "cell_type": "code",
   "execution_count": 4,
   "metadata": {},
   "outputs": [
    {
     "data": {
      "text/html": [
       "<div>\n",
       "<style scoped>\n",
       "    .dataframe tbody tr th:only-of-type {\n",
       "        vertical-align: middle;\n",
       "    }\n",
       "\n",
       "    .dataframe tbody tr th {\n",
       "        vertical-align: top;\n",
       "    }\n",
       "\n",
       "    .dataframe thead th {\n",
       "        text-align: right;\n",
       "    }\n",
       "</style>\n",
       "<table border=\"1\" class=\"dataframe\">\n",
       "  <thead>\n",
       "    <tr style=\"text-align: right;\">\n",
       "      <th></th>\n",
       "      <th>SCHOOL ID</th>\n",
       "      <th>SCHOOL NAME</th>\n",
       "      <th>DIVISION</th>\n",
       "      <th>ADDRESS</th>\n",
       "      <th>DEPED_BARANGAY</th>\n",
       "      <th>DEPED_MUNICIPALITY</th>\n",
       "      <th>DEPED_REGION</th>\n",
       "      <th>DEPED_COORD</th>\n",
       "      <th>DEPED_LONGITUDE</th>\n",
       "      <th>DEPED_LATITUDE</th>\n",
       "      <th>...</th>\n",
       "      <th>LATITUDE</th>\n",
       "      <th>PSGC_BARANGAY</th>\n",
       "      <th>BARANGAY</th>\n",
       "      <th>PSGC_MUNICIPALITY</th>\n",
       "      <th>MUNICIPALITY</th>\n",
       "      <th>PSGC_PROVINCE</th>\n",
       "      <th>PROVINCE</th>\n",
       "      <th>PSGC_REGION</th>\n",
       "      <th>REGION</th>\n",
       "      <th>DELTA_KM</th>\n",
       "    </tr>\n",
       "  </thead>\n",
       "  <tbody>\n",
       "    <tr>\n",
       "      <th>0</th>\n",
       "      <td>100160</td>\n",
       "      <td>ADAMS CES</td>\n",
       "      <td>ILOCOS NORTE</td>\n",
       "      <td>POB. 1, ADAMS, ILOCOS NORTE</td>\n",
       "      <td>ADAMS (POB.)</td>\n",
       "      <td>ADAMS</td>\n",
       "      <td>REGION I</td>\n",
       "      <td>1</td>\n",
       "      <td>120.901845</td>\n",
       "      <td>18.462302</td>\n",
       "      <td>...</td>\n",
       "      <td>18.462302</td>\n",
       "      <td>PH012801001</td>\n",
       "      <td>ADAMS (POB.)</td>\n",
       "      <td>PH012801000</td>\n",
       "      <td>ADAMS</td>\n",
       "      <td>PH012800000</td>\n",
       "      <td>ILOCOS NORTE</td>\n",
       "      <td>PH010000000</td>\n",
       "      <td>REGION I (ILOCOS REGION)</td>\n",
       "      <td>NaN</td>\n",
       "    </tr>\n",
       "    <tr>\n",
       "      <th>1</th>\n",
       "      <td>100163</td>\n",
       "      <td>BUCAROT PS</td>\n",
       "      <td>ILOCOS NORTE</td>\n",
       "      <td>BUCAROT, ADAMS, ILOCOS NORTE</td>\n",
       "      <td>ADAMS (POB.)</td>\n",
       "      <td>ADAMS</td>\n",
       "      <td>REGION I</td>\n",
       "      <td>1</td>\n",
       "      <td>120.903605</td>\n",
       "      <td>18.462088</td>\n",
       "      <td>...</td>\n",
       "      <td>18.462088</td>\n",
       "      <td>PH012801001</td>\n",
       "      <td>ADAMS (POB.)</td>\n",
       "      <td>PH012801000</td>\n",
       "      <td>ADAMS</td>\n",
       "      <td>PH012800000</td>\n",
       "      <td>ILOCOS NORTE</td>\n",
       "      <td>PH010000000</td>\n",
       "      <td>REGION I (ILOCOS REGION)</td>\n",
       "      <td>NaN</td>\n",
       "    </tr>\n",
       "  </tbody>\n",
       "</table>\n",
       "<p>2 rows × 26 columns</p>\n",
       "</div>"
      ],
      "text/plain": [
       "   SCHOOL ID SCHOOL NAME      DIVISION                       ADDRESS  \\\n",
       "0     100160   ADAMS CES  ILOCOS NORTE   POB. 1, ADAMS, ILOCOS NORTE   \n",
       "1     100163  BUCAROT PS  ILOCOS NORTE  BUCAROT, ADAMS, ILOCOS NORTE   \n",
       "\n",
       "  DEPED_BARANGAY DEPED_MUNICIPALITY DEPED_REGION  DEPED_COORD  \\\n",
       "0   ADAMS (POB.)              ADAMS     REGION I            1   \n",
       "1   ADAMS (POB.)              ADAMS     REGION I            1   \n",
       "\n",
       "   DEPED_LONGITUDE  DEPED_LATITUDE  ...   LATITUDE  PSGC_BARANGAY  \\\n",
       "0       120.901845       18.462302  ...  18.462302    PH012801001   \n",
       "1       120.903605       18.462088  ...  18.462088    PH012801001   \n",
       "\n",
       "       BARANGAY  PSGC_MUNICIPALITY MUNICIPALITY  PSGC_PROVINCE      PROVINCE  \\\n",
       "0  ADAMS (POB.)        PH012801000        ADAMS    PH012800000  ILOCOS NORTE   \n",
       "1  ADAMS (POB.)        PH012801000        ADAMS    PH012800000  ILOCOS NORTE   \n",
       "\n",
       "   PSGC_REGION                    REGION DELTA_KM  \n",
       "0  PH010000000  REGION I (ILOCOS REGION)      NaN  \n",
       "1  PH010000000  REGION I (ILOCOS REGION)      NaN  \n",
       "\n",
       "[2 rows x 26 columns]"
      ]
     },
     "execution_count": 4,
     "metadata": {},
     "output_type": "execute_result"
    }
   ],
   "source": [
    "df.head(2)"
   ]
  },
  {
   "cell_type": "code",
   "execution_count": 7,
   "metadata": {},
   "outputs": [
    {
     "data": {
      "text/plain": [
       "(45333, 41712)"
      ]
     },
     "execution_count": 7,
     "metadata": {},
     "output_type": "execute_result"
    }
   ],
   "source": [
    "df1 = df[df[\"SOURCE_COORD\"].notnull()]\n",
    "df2 = df[df[\"SOURCE_COORD\"]==\"DEPED\"]\n",
    "len(df1), len(df2)"
   ]
  },
  {
   "cell_type": "code",
   "execution_count": 9,
   "metadata": {},
   "outputs": [
    {
     "data": {
      "text/plain": [
       "722"
      ]
     },
     "execution_count": 9,
     "metadata": {},
     "output_type": "execute_result"
    }
   ],
   "source": [
    "df_sub1 = df1[df1[\"PROVINCE\"]==\"ALBAY\"]\n",
    "len(df_sub1)"
   ]
  },
  {
   "cell_type": "code",
   "execution_count": 25,
   "metadata": {},
   "outputs": [
    {
     "data": {
      "text/html": [
       "<div>\n",
       "<style scoped>\n",
       "    .dataframe tbody tr th:only-of-type {\n",
       "        vertical-align: middle;\n",
       "    }\n",
       "\n",
       "    .dataframe tbody tr th {\n",
       "        vertical-align: top;\n",
       "    }\n",
       "\n",
       "    .dataframe thead th {\n",
       "        text-align: right;\n",
       "    }\n",
       "</style>\n",
       "<table border=\"1\" class=\"dataframe\">\n",
       "  <thead>\n",
       "    <tr style=\"text-align: right;\">\n",
       "      <th></th>\n",
       "      <th>index</th>\n",
       "      <th>SCHOOL ID</th>\n",
       "      <th>SCHOOL NAME</th>\n",
       "      <th>DIVISION</th>\n",
       "      <th>ADDRESS</th>\n",
       "      <th>DEPED_BARANGAY</th>\n",
       "      <th>DEPED_MUNICIPALITY</th>\n",
       "      <th>DEPED_REGION</th>\n",
       "      <th>DEPED_COORD</th>\n",
       "      <th>DEPED_LONGITUDE</th>\n",
       "      <th>...</th>\n",
       "      <th>LATITUDE</th>\n",
       "      <th>PSGC_BARANGAY</th>\n",
       "      <th>BARANGAY</th>\n",
       "      <th>PSGC_MUNICIPALITY</th>\n",
       "      <th>MUNICIPALITY</th>\n",
       "      <th>PSGC_PROVINCE</th>\n",
       "      <th>PROVINCE</th>\n",
       "      <th>PSGC_REGION</th>\n",
       "      <th>REGION</th>\n",
       "      <th>DELTA_KM</th>\n",
       "    </tr>\n",
       "  </thead>\n",
       "  <tbody>\n",
       "    <tr>\n",
       "      <th>0</th>\n",
       "      <td>14964</td>\n",
       "      <td>111601</td>\n",
       "      <td>BANAO ELEMENTARY SCHOOL</td>\n",
       "      <td>ALBAY</td>\n",
       "      <td>PUROK 1</td>\n",
       "      <td>BANAO</td>\n",
       "      <td>BACACAY</td>\n",
       "      <td>REGION V</td>\n",
       "      <td>1</td>\n",
       "      <td>123.815365</td>\n",
       "      <td>...</td>\n",
       "      <td>13.255574</td>\n",
       "      <td>PH050501002</td>\n",
       "      <td>BANAO</td>\n",
       "      <td>PH050501000</td>\n",
       "      <td>BACACAY</td>\n",
       "      <td>PH050500000</td>\n",
       "      <td>ALBAY</td>\n",
       "      <td>PH050000000</td>\n",
       "      <td>REGION V (BICOL REGION)</td>\n",
       "      <td>NaN</td>\n",
       "    </tr>\n",
       "    <tr>\n",
       "      <th>1</th>\n",
       "      <td>14965</td>\n",
       "      <td>111585</td>\n",
       "      <td>BASUD ELEMENTARY SCHOOL</td>\n",
       "      <td>ALBAY</td>\n",
       "      <td>-</td>\n",
       "      <td>BASUD</td>\n",
       "      <td>BACACAY</td>\n",
       "      <td>REGION V</td>\n",
       "      <td>1</td>\n",
       "      <td>123.793570</td>\n",
       "      <td>...</td>\n",
       "      <td>13.281382</td>\n",
       "      <td>PH050501001</td>\n",
       "      <td>BACLAYON</td>\n",
       "      <td>PH050501000</td>\n",
       "      <td>BACACAY</td>\n",
       "      <td>PH050500000</td>\n",
       "      <td>ALBAY</td>\n",
       "      <td>PH050000000</td>\n",
       "      <td>REGION V (BICOL REGION)</td>\n",
       "      <td>NaN</td>\n",
       "    </tr>\n",
       "  </tbody>\n",
       "</table>\n",
       "<p>2 rows × 27 columns</p>\n",
       "</div>"
      ],
      "text/plain": [
       "   index  SCHOOL ID              SCHOOL NAME DIVISION  ADDRESS DEPED_BARANGAY  \\\n",
       "0  14964     111601  BANAO ELEMENTARY SCHOOL    ALBAY  PUROK 1          BANAO   \n",
       "1  14965     111585  BASUD ELEMENTARY SCHOOL    ALBAY        -          BASUD   \n",
       "\n",
       "  DEPED_MUNICIPALITY DEPED_REGION  DEPED_COORD  DEPED_LONGITUDE  ...  \\\n",
       "0            BACACAY     REGION V            1       123.815365  ...   \n",
       "1            BACACAY     REGION V            1       123.793570  ...   \n",
       "\n",
       "    LATITUDE  PSGC_BARANGAY  BARANGAY  PSGC_MUNICIPALITY  MUNICIPALITY  \\\n",
       "0  13.255574    PH050501002     BANAO        PH050501000       BACACAY   \n",
       "1  13.281382    PH050501001  BACLAYON        PH050501000       BACACAY   \n",
       "\n",
       "  PSGC_PROVINCE  PROVINCE  PSGC_REGION                   REGION DELTA_KM  \n",
       "0   PH050500000     ALBAY  PH050000000  REGION V (BICOL REGION)      NaN  \n",
       "1   PH050500000     ALBAY  PH050000000  REGION V (BICOL REGION)      NaN  \n",
       "\n",
       "[2 rows x 27 columns]"
      ]
     },
     "execution_count": 25,
     "metadata": {},
     "output_type": "execute_result"
    }
   ],
   "source": [
    "df_sub.head(2)"
   ]
  },
  {
   "cell_type": "code",
   "execution_count": 14,
   "metadata": {},
   "outputs": [],
   "source": [
    "lon, lat = np.array(df_sub1[\"LONGITUDE\"]), np.array(df_sub1[\"LATITUDE\"])"
   ]
  },
  {
   "cell_type": "code",
   "execution_count": 32,
   "metadata": {},
   "outputs": [
    {
     "data": {
      "text/plain": [
       "array([ 30,  31, 514, 513,  42])"
      ]
     },
     "execution_count": 32,
     "metadata": {},
     "output_type": "execute_result"
    }
   ],
   "source": [
    "jnn"
   ]
  },
  {
   "cell_type": "code",
   "execution_count": 43,
   "metadata": {},
   "outputs": [],
   "source": [
    "df_sub = df_sub1.copy().reset_index()\n",
    "nsub = len(df_sub)\n",
    "\n",
    "# initialize output dataframe\n",
    "df_out = pd.DataFrame()\n",
    "cols = [\"SCHOOL ID\", \"SOURCE_COORD\", \"LONGITUDE\", \"LATITUDE\", \"ID1\", \"ID2\", \"ID3\", \"ID4\", \"ID5\", \"D1\", \"D2\", \"D3\", \"D4\", \"D5\"]\n",
    "for col in cols:\n",
    "    df_out[col] = np.zeros(nsub)\n",
    "\n",
    "for i in np.arange(nsub):\n",
    "    school_id = df_sub.loc[i, \"SCHOOL ID\"]\n",
    "    source_coord = df_sub.loc[i, \"SOURCE_COORD\"]\n",
    "    di = np.zeros(nsub) + np.nan # initialize array for distances to other schools\n",
    "    lon1, lat1 = lon[i], lat[i]\n",
    "    for j in np.arange(nsub):    \n",
    "        lon2, lat2 = lon[j], lat[j]\n",
    "        coord1, coord2 = (lon1, lat1), (lon2, lat2)\n",
    "        dij = haversine.Haversine(coord1, coord2).km\n",
    "        di[j] = dij\n",
    "    # get nearest nn neighbors\n",
    "    jsort = np.argsort(di)\n",
    "    jnn = jsort[1:6]  # remove i=j\n",
    "    idnn = df_sub.loc[jnn, \"SCHOOL ID\"].values\n",
    "    dnn = di[jnn]\n",
    "    out = np.array([school_id, source_coord, lon1, lat1, idnn[0], idnn[1], idnn[2], idnn[3], idnn[4], dnn[0], dnn[1], dnn[2], dnn[3], dnn[4]])\n",
    "    df_out.loc[i,:] = out"
   ]
  },
  {
   "cell_type": "code",
   "execution_count": 44,
   "metadata": {},
   "outputs": [],
   "source": [
    "df_out.to_csv(fn_out, index=False)"
   ]
  },
  {
   "cell_type": "code",
   "execution_count": 42,
   "metadata": {},
   "outputs": [
    {
     "data": {
      "text/plain": [
       "722"
      ]
     },
     "execution_count": 42,
     "metadata": {},
     "output_type": "execute_result"
    }
   ],
   "source": [
    "len(df_out)"
   ]
  },
  {
   "cell_type": "code",
   "execution_count": null,
   "metadata": {},
   "outputs": [],
   "source": []
  },
  {
   "cell_type": "code",
   "execution_count": 3,
   "metadata": {},
   "outputs": [
    {
     "data": {
      "text/html": [
       "<div>\n",
       "<style scoped>\n",
       "    .dataframe tbody tr th:only-of-type {\n",
       "        vertical-align: middle;\n",
       "    }\n",
       "\n",
       "    .dataframe tbody tr th {\n",
       "        vertical-align: top;\n",
       "    }\n",
       "\n",
       "    .dataframe thead th {\n",
       "        text-align: right;\n",
       "    }\n",
       "</style>\n",
       "<table border=\"1\" class=\"dataframe\">\n",
       "  <thead>\n",
       "    <tr style=\"text-align: right;\">\n",
       "      <th></th>\n",
       "      <th>SCHOOL ID</th>\n",
       "      <th>SOURCE_COORD</th>\n",
       "      <th>LONGITUDE</th>\n",
       "      <th>LATITUDE</th>\n",
       "      <th>ID1</th>\n",
       "      <th>ID2</th>\n",
       "      <th>ID3</th>\n",
       "      <th>ID4</th>\n",
       "      <th>ID5</th>\n",
       "      <th>D1</th>\n",
       "      <th>D2</th>\n",
       "      <th>D3</th>\n",
       "      <th>D4</th>\n",
       "      <th>D5</th>\n",
       "    </tr>\n",
       "  </thead>\n",
       "  <tbody>\n",
       "    <tr>\n",
       "      <th>0</th>\n",
       "      <td>111601</td>\n",
       "      <td>DEPED</td>\n",
       "      <td>123.815365</td>\n",
       "      <td>13.255574</td>\n",
       "      <td>111618</td>\n",
       "      <td>301863</td>\n",
       "      <td>301815</td>\n",
       "      <td>112056</td>\n",
       "      <td>111622</td>\n",
       "      <td>1.375030</td>\n",
       "      <td>1.450677</td>\n",
       "      <td>1.808342</td>\n",
       "      <td>2.058832</td>\n",
       "      <td>2.345121</td>\n",
       "    </tr>\n",
       "    <tr>\n",
       "      <th>1</th>\n",
       "      <td>111585</td>\n",
       "      <td>DEPED</td>\n",
       "      <td>123.793570</td>\n",
       "      <td>13.281382</td>\n",
       "      <td>111624</td>\n",
       "      <td>111584</td>\n",
       "      <td>111603</td>\n",
       "      <td>111612</td>\n",
       "      <td>112462</td>\n",
       "      <td>0.442557</td>\n",
       "      <td>0.952464</td>\n",
       "      <td>1.196860</td>\n",
       "      <td>1.269868</td>\n",
       "      <td>1.284145</td>\n",
       "    </tr>\n",
       "  </tbody>\n",
       "</table>\n",
       "</div>"
      ],
      "text/plain": [
       "   SCHOOL ID SOURCE_COORD   LONGITUDE   LATITUDE     ID1     ID2     ID3  \\\n",
       "0     111601        DEPED  123.815365  13.255574  111618  301863  301815   \n",
       "1     111585        DEPED  123.793570  13.281382  111624  111584  111603   \n",
       "\n",
       "      ID4     ID5        D1        D2        D3        D4        D5  \n",
       "0  112056  111622  1.375030  1.450677  1.808342  2.058832  2.345121  \n",
       "1  111612  112462  0.442557  0.952464  1.196860  1.269868  1.284145  "
      ]
     },
     "execution_count": 3,
     "metadata": {},
     "output_type": "execute_result"
    }
   ],
   "source": [
    "df_out = pd.read_csv(fn_out)\n",
    "df_out.head(2)"
   ]
  },
  {
   "cell_type": "code",
   "execution_count": 6,
   "metadata": {},
   "outputs": [
    {
     "data": {
      "text/plain": [
       "<matplotlib.axes._subplots.AxesSubplot at 0x11a326250>"
      ]
     },
     "execution_count": 6,
     "metadata": {},
     "output_type": "execute_result"
    },
    {
     "data": {
      "image/png": "[encoded data removed]",
      "text/plain": [
       "<Figure size 432x288 with 1 Axes>"
      ]
     },
     "metadata": {
      "needs_background": "light"
     },
     "output_type": "display_data"
    }
   ],
   "source": [
    "df_out[\"D1\"].hist(alpha=0.6)\n",
    "df_out[\"D5\"].hist(alpha=0.6)"
   ]
  },
  {
   "cell_type": "code",
   "execution_count": 7,
   "metadata": {},
   "outputs": [
    {
     "data": {
      "text/plain": [
       "<matplotlib.axes._subplots.AxesSubplot at 0x11a444bd0>"
      ]
     },
     "execution_count": 7,
     "metadata": {},
     "output_type": "execute_result"
    },
    {
     "data": {
      "image/png": "[encoded data removed]",
      "text/plain": [
       "<Figure size 432x288 with 1 Axes>"
      ]
     },
     "metadata": {
      "needs_background": "light"
     },
     "output_type": "display_data"
    }
   ],
   "source": [
    "df_out[\"D1\"].hist(alpha=0.6, log=True)\n",
    "df_out[\"D5\"].hist(alpha=0.6, log=True)"
   ]
  },
  {
   "cell_type": "code",
   "execution_count": 11,
   "metadata": {},
   "outputs": [
    {
     "data": {
      "text/plain": [
       "27"
      ]
     },
     "execution_count": 11,
     "metadata": {},
     "output_type": "execute_result"
    }
   ],
   "source": [
    "len(df_out[df_out[\"D1\"]==0])"
   ]
  },
  {
   "cell_type": "code",
   "execution_count": 14,
   "metadata": {},
   "outputs": [
    {
     "data": {
      "text/plain": [
       "<matplotlib.axes._subplots.AxesSubplot at 0x11ad16650>"
      ]
     },
     "execution_count": 14,
     "metadata": {},
     "output_type": "execute_result"
    },
    {
     "data": {
      "image/png": "[encoded data removed]",
      "text/plain": [
       "<Figure size 432x288 with 1 Axes>"
      ]
     },
     "metadata": {
      "needs_background": "light"
     },
     "output_type": "display_data"
    }
   ],
   "source": [
    "y = df_out[\"D1\"]\n",
    "logy = np.log10(y[y!=0])+3\n",
    "logy.hist(alpha=0.6, log=True)"
   ]
  },
  {
   "cell_type": "code",
   "execution_count": 18,
   "metadata": {},
   "outputs": [
    {
     "data": {
      "text/plain": [
       "<matplotlib.axes._subplots.AxesSubplot at 0x11b369510>"
      ]
     },
     "execution_count": 18,
     "metadata": {},
     "output_type": "execute_result"
    },
    {
     "data": {
      "image/png": "[encoded data removed]",
      "text/plain": [
       "<Figure size 432x288 with 1 Axes>"
      ]
     },
     "metadata": {
      "needs_background": "light"
     },
     "output_type": "display_data"
    }
   ],
   "source": [
    "y = df_out[\"D1\"]\n",
    "logy = np.log10(y[y!=0])+3\n",
    "logy.hist(alpha=0.6, log=True, density=True)"
   ]
  },
  {
   "cell_type": "code",
   "execution_count": null,
   "metadata": {},
   "outputs": [],
   "source": []
  }
 ],
 "metadata": {
  "kernelspec": {
   "display_name": "Python 2",
   "language": "python",
   "name": "python2"
  },
  "language_info": {
   "codemirror_mode": {
    "name": "ipython",
    "version": 2
   },
   "file_extension": ".py",
   "mimetype": "text/x-python",
   "name": "python",
   "nbconvert_exporter": "python",
   "pygments_lexer": "ipython2",
   "version": "2.7.16"
  }
 },
 "nbformat": 4,
 "nbformat_minor": 2
}
