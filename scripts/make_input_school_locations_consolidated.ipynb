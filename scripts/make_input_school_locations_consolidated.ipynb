{
 "cells": [
  {
   "cell_type": "code",
   "execution_count": 232,
   "metadata": {},
   "outputs": [],
   "source": [
    "import numpy as np\n",
    "import pandas as pd\n",
    "import haversine\n",
    "import math"
   ]
  },
  {
   "cell_type": "code",
   "execution_count": 2,
   "metadata": {},
   "outputs": [],
   "source": [
    "fn_out = \"../input/deped_school_location_with_enrolment_2017_2018_consolidated.csv\""
   ]
  },
  {
   "cell_type": "code",
   "execution_count": 3,
   "metadata": {},
   "outputs": [
    {
     "name": "stderr",
     "output_type": "stream",
     "text": [
      "/opt/anaconda2/lib/python2.7/site-packages/IPython/core/interactiveshell.py:2714: DtypeWarning: Columns (7) have mixed types. Specify dtype option on import or set low_memory=False.\n",
      "  interactivity=interactivity, compiler=compiler, result=result)\n"
     ]
    }
   ],
   "source": [
    "# read input files\n",
    "fnA = \"../data/deped_school_location_with_enrolment_2017_2018_validationA.csv\"\n",
    "dfA = pd.read_csv(fnA)"
   ]
  },
  {
   "cell_type": "code",
   "execution_count": 79,
   "metadata": {},
   "outputs": [],
   "source": [
    "fnB1 = \"../data/deped_school_location_with_enrolment_2017_2018_geocoded1_validationB.csv\"\n",
    "dfB1 = pd.read_csv(fnB1)"
   ]
  },
  {
   "cell_type": "code",
   "execution_count": 75,
   "metadata": {},
   "outputs": [],
   "source": [
    "fnB2 = \"../data/deped_school_location_with_enrolment_2017_2018_geocoded2_validationB.csv\"\n",
    "dfB2 = pd.read_csv(fnB2)"
   ]
  },
  {
   "cell_type": "code",
   "execution_count": 76,
   "metadata": {},
   "outputs": [
    {
     "data": {
      "text/plain": [
       "(47358, 47358, 47358)"
      ]
     },
     "execution_count": 76,
     "metadata": {},
     "output_type": "execute_result"
    }
   ],
   "source": [
    "len(dfA), len(dfB1), len(dfB2)"
   ]
  },
  {
   "cell_type": "code",
   "execution_count": 7,
   "metadata": {},
   "outputs": [
    {
     "data": {
      "text/html": [
       "<div>\n",
       "<style scoped>\n",
       "    .dataframe tbody tr th:only-of-type {\n",
       "        vertical-align: middle;\n",
       "    }\n",
       "\n",
       "    .dataframe tbody tr th {\n",
       "        vertical-align: top;\n",
       "    }\n",
       "\n",
       "    .dataframe thead th {\n",
       "        text-align: right;\n",
       "    }\n",
       "</style>\n",
       "<table border=\"1\" class=\"dataframe\">\n",
       "  <thead>\n",
       "    <tr style=\"text-align: right;\">\n",
       "      <th></th>\n",
       "      <th>SCHOOL ID</th>\n",
       "      <th>SCHOOL NAME</th>\n",
       "      <th>ADDRESS</th>\n",
       "      <th>REGION</th>\n",
       "      <th>DIVISION</th>\n",
       "      <th>MUNICIPALITY</th>\n",
       "      <th>BARANGGAY</th>\n",
       "      <th>LATITUDE</th>\n",
       "      <th>LONGITUDE</th>\n",
       "      <th>MAPPED</th>\n",
       "      <th>...</th>\n",
       "      <th>Reg_Name</th>\n",
       "      <th>Pro_Code</th>\n",
       "      <th>Pro_Name</th>\n",
       "      <th>Mun_Code</th>\n",
       "      <th>Mun_Name</th>\n",
       "      <th>Bgy_Code</th>\n",
       "      <th>Bgy_Name</th>\n",
       "      <th>MATCH_BARANGAY</th>\n",
       "      <th>MATCH_MUNICIPALITY</th>\n",
       "      <th>MATCH_REGION</th>\n",
       "    </tr>\n",
       "  </thead>\n",
       "  <tbody>\n",
       "    <tr>\n",
       "      <th>0</th>\n",
       "      <td>100160</td>\n",
       "      <td>Adams CES</td>\n",
       "      <td>Pob. 1, Adams, Ilocos Norte</td>\n",
       "      <td>Region I</td>\n",
       "      <td>Ilocos Norte</td>\n",
       "      <td>ADAMS</td>\n",
       "      <td>ADAMS (POB.)</td>\n",
       "      <td>18.462302</td>\n",
       "      <td>120.901845</td>\n",
       "      <td>1</td>\n",
       "      <td>...</td>\n",
       "      <td>REGION I (ILOCOS REGION)</td>\n",
       "      <td>PH012800000</td>\n",
       "      <td>ILOCOS NORTE</td>\n",
       "      <td>PH012801000</td>\n",
       "      <td>ADAMS</td>\n",
       "      <td>PH012801001</td>\n",
       "      <td>ADAMS (POB.)</td>\n",
       "      <td>1.0</td>\n",
       "      <td>1.0</td>\n",
       "      <td>1.0</td>\n",
       "    </tr>\n",
       "    <tr>\n",
       "      <th>1</th>\n",
       "      <td>100163</td>\n",
       "      <td>Bucarot PS</td>\n",
       "      <td>Bucarot, Adams, Ilocos Norte</td>\n",
       "      <td>Region I</td>\n",
       "      <td>Ilocos Norte</td>\n",
       "      <td>ADAMS</td>\n",
       "      <td>ADAMS (POB.)</td>\n",
       "      <td>18.462088</td>\n",
       "      <td>120.903605</td>\n",
       "      <td>1</td>\n",
       "      <td>...</td>\n",
       "      <td>REGION I (ILOCOS REGION)</td>\n",
       "      <td>PH012800000</td>\n",
       "      <td>ILOCOS NORTE</td>\n",
       "      <td>PH012801000</td>\n",
       "      <td>ADAMS</td>\n",
       "      <td>PH012801001</td>\n",
       "      <td>ADAMS (POB.)</td>\n",
       "      <td>1.0</td>\n",
       "      <td>1.0</td>\n",
       "      <td>1.0</td>\n",
       "    </tr>\n",
       "  </tbody>\n",
       "</table>\n",
       "<p>2 rows × 22 columns</p>\n",
       "</div>"
      ],
      "text/plain": [
       "   SCHOOL ID SCHOOL NAME                       ADDRESS    REGION  \\\n",
       "0     100160   Adams CES   Pob. 1, Adams, Ilocos Norte  Region I   \n",
       "1     100163  Bucarot PS  Bucarot, Adams, Ilocos Norte  Region I   \n",
       "\n",
       "       DIVISION MUNICIPALITY     BARANGGAY   LATITUDE   LONGITUDE  MAPPED  \\\n",
       "0  Ilocos Norte        ADAMS  ADAMS (POB.)  18.462302  120.901845       1   \n",
       "1  Ilocos Norte        ADAMS  ADAMS (POB.)  18.462088  120.903605       1   \n",
       "\n",
       "   ...                  Reg_Name     Pro_Code      Pro_Name     Mun_Code  \\\n",
       "0  ...  REGION I (ILOCOS REGION)  PH012800000  ILOCOS NORTE  PH012801000   \n",
       "1  ...  REGION I (ILOCOS REGION)  PH012800000  ILOCOS NORTE  PH012801000   \n",
       "\n",
       "  Mun_Name     Bgy_Code      Bgy_Name MATCH_BARANGAY MATCH_MUNICIPALITY  \\\n",
       "0    ADAMS  PH012801001  ADAMS (POB.)            1.0                1.0   \n",
       "1    ADAMS  PH012801001  ADAMS (POB.)            1.0                1.0   \n",
       "\n",
       "   MATCH_REGION  \n",
       "0           1.0  \n",
       "1           1.0  \n",
       "\n",
       "[2 rows x 22 columns]"
      ]
     },
     "execution_count": 7,
     "metadata": {},
     "output_type": "execute_result"
    }
   ],
   "source": [
    "dfA.head(2)"
   ]
  },
  {
   "cell_type": "code",
   "execution_count": 9,
   "metadata": {},
   "outputs": [
    {
     "data": {
      "text/plain": [
       "Index([u'SCHOOL ID', u'SCHOOL NAME', u'ADDRESS', u'REGION', u'DIVISION',\n",
       "       u'MUNICIPALITY', u'BARANGGAY', u'LATITUDE', u'LONGITUDE', u'MAPPED',\n",
       "       u'INVALID', u'Reg_Code', u'Reg_Name', u'Pro_Code', u'Pro_Name',\n",
       "       u'Mun_Code', u'Mun_Name', u'Bgy_Code', u'Bgy_Name', u'MATCH_BARANGAY',\n",
       "       u'MATCH_MUNICIPALITY', u'MATCH_REGION'],\n",
       "      dtype='object')"
      ]
     },
     "execution_count": 9,
     "metadata": {},
     "output_type": "execute_result"
    }
   ],
   "source": [
    "dfA.columns"
   ]
  },
  {
   "cell_type": "code",
   "execution_count": 150,
   "metadata": {},
   "outputs": [
    {
     "data": {
      "text/plain": [
       "1    42214\n",
       "0     5144\n",
       "Name: MAPPED, dtype: int64"
      ]
     },
     "execution_count": 150,
     "metadata": {},
     "output_type": "execute_result"
    }
   ],
   "source": [
    "dfA[\"MAPPED\"].value_counts()"
   ]
  },
  {
   "cell_type": "code",
   "execution_count": 204,
   "metadata": {},
   "outputs": [
    {
     "name": "stderr",
     "output_type": "stream",
     "text": [
      "/opt/anaconda2/lib/python2.7/site-packages/ipykernel_launcher.py:3: SettingWithCopyWarning: \n",
      "A value is trying to be set on a copy of a slice from a DataFrame.\n",
      "Try using .loc[row_indexer,col_indexer] = value instead\n",
      "\n",
      "See the caveats in the documentation: http://pandas.pydata.org/pandas-docs/stable/indexing.html#indexing-view-versus-copy\n",
      "  This is separate from the ipykernel package so we can avoid doing imports until\n",
      "/opt/anaconda2/lib/python2.7/site-packages/ipykernel_launcher.py:4: SettingWithCopyWarning: \n",
      "A value is trying to be set on a copy of a slice from a DataFrame.\n",
      "Try using .loc[row_indexer,col_indexer] = value instead\n",
      "\n",
      "See the caveats in the documentation: http://pandas.pydata.org/pandas-docs/stable/indexing.html#indexing-view-versus-copy\n",
      "  after removing the cwd from sys.path.\n",
      "/opt/anaconda2/lib/python2.7/site-packages/ipykernel_launcher.py:5: SettingWithCopyWarning: \n",
      "A value is trying to be set on a copy of a slice from a DataFrame.\n",
      "Try using .loc[row_indexer,col_indexer] = value instead\n",
      "\n",
      "See the caveats in the documentation: http://pandas.pydata.org/pandas-docs/stable/indexing.html#indexing-view-versus-copy\n",
      "  \"\"\"\n",
      "/opt/anaconda2/lib/python2.7/site-packages/ipykernel_launcher.py:6: SettingWithCopyWarning: \n",
      "A value is trying to be set on a copy of a slice from a DataFrame.\n",
      "Try using .loc[row_indexer,col_indexer] = value instead\n",
      "\n",
      "See the caveats in the documentation: http://pandas.pydata.org/pandas-docs/stable/indexing.html#indexing-view-versus-copy\n",
      "  \n",
      "/opt/anaconda2/lib/python2.7/site-packages/ipykernel_launcher.py:8: SettingWithCopyWarning: \n",
      "A value is trying to be set on a copy of a slice from a DataFrame.\n",
      "Try using .loc[row_indexer,col_indexer] = value instead\n",
      "\n",
      "See the caveats in the documentation: http://pandas.pydata.org/pandas-docs/stable/indexing.html#indexing-view-versus-copy\n",
      "  \n"
     ]
    }
   ],
   "source": [
    "df_out = dfA[[u'SCHOOL ID', u'SCHOOL NAME', u'DIVISION', u'ADDRESS']]\n",
    "for col in [u'SCHOOL NAME', u'DIVISION', u'ADDRESS']:\n",
    "    df_out[col] = df_out[col].str.upper()\n",
    "df_out[\"DEPED_BARANGAY\"] = dfA[\"BARANGGAY\"].str.upper()\n",
    "df_out[\"DEPED_MUNICIPALITY\"] = dfA[\"MUNICIPALITY\"].str.upper()\n",
    "df_out[\"DEPED_REGION\"] = dfA[\"REGION\"].str.upper()\n",
    "# set DEPED_COORD\n",
    "df_out[\"DEPED_COORD\"] = dfA[\"MAPPED\"]\n",
    "df_out.loc[dfA[\"INVALID\"]==1, \"DEPED_COORD\"] = 2 # mapped and invalid\n",
    "df_out.loc[(dfA[\"MAPPED\"]==1) & dfA[\"INVALID\"].isnull(), \"DEPED_COORD\"] = 3 # mapped and fell outside PH shapefile"
   ]
  },
  {
   "cell_type": "code",
   "execution_count": 205,
   "metadata": {},
   "outputs": [
    {
     "data": {
      "text/plain": [
       "1    41712\n",
       "0     5144\n",
       "2      367\n",
       "3      135\n",
       "Name: DEPED_COORD, dtype: int64"
      ]
     },
     "execution_count": 205,
     "metadata": {},
     "output_type": "execute_result"
    }
   ],
   "source": [
    "df_out[\"DEPED_COORD\"].value_counts()"
   ]
  },
  {
   "cell_type": "code",
   "execution_count": 206,
   "metadata": {},
   "outputs": [
    {
     "name": "stderr",
     "output_type": "stream",
     "text": [
      "/opt/anaconda2/lib/python2.7/site-packages/ipykernel_launcher.py:2: SettingWithCopyWarning: \n",
      "A value is trying to be set on a copy of a slice from a DataFrame.\n",
      "Try using .loc[row_indexer,col_indexer] = value instead\n",
      "\n",
      "See the caveats in the documentation: http://pandas.pydata.org/pandas-docs/stable/indexing.html#indexing-view-versus-copy\n",
      "  \n",
      "/opt/anaconda2/lib/python2.7/site-packages/ipykernel_launcher.py:3: SettingWithCopyWarning: \n",
      "A value is trying to be set on a copy of a slice from a DataFrame.\n",
      "Try using .loc[row_indexer,col_indexer] = value instead\n",
      "\n",
      "See the caveats in the documentation: http://pandas.pydata.org/pandas-docs/stable/indexing.html#indexing-view-versus-copy\n",
      "  This is separate from the ipykernel package so we can avoid doing imports until\n"
     ]
    }
   ],
   "source": [
    "# set DEPED lon, lat - clean & convert to float\n",
    "df_out[\"DEPED_LONGITUDE\"] = dfA[\"LONGITUDE\"].astype(float)\n",
    "df_out[\"DEPED_LATITUDE\"] = dfA[\"LATITUDE\"].str.replace('\\xc2','').str.replace('\\xa0','').astype(float)"
   ]
  },
  {
   "cell_type": "code",
   "execution_count": 207,
   "metadata": {},
   "outputs": [
    {
     "data": {
      "text/plain": [
       "Index([u'SCHOOL ID', u'SCHOOL NAME', u'ADDRESS', u'REGION', u'DIVISION',\n",
       "       u'MUNICIPALITY', u'BARANGGAY', u'LATITUDE', u'LONGITUDE', u'MAPPED',\n",
       "       u'INVALID', u'GMAP_MAPPED', u'GMAP_LAT1', u'GMAP_LON1', u'GMAP_LAT2',\n",
       "       u'GMAP_LON2', u'GMAP_DELTA_KM', u'Reg_Code', u'Reg_Name', u'Pro_Code',\n",
       "       u'Pro_Name', u'Mun_Code', u'Mun_Name', u'Bgy_Code', u'Bgy_Name',\n",
       "       u'MATCH_BARANGAY', u'MATCH_MUNICIPALITY', u'MATCH_REGION', u'DELTA'],\n",
       "      dtype='object')"
      ]
     },
     "execution_count": 207,
     "metadata": {},
     "output_type": "execute_result"
    }
   ],
   "source": [
    "dfB1.columns"
   ]
  },
  {
   "cell_type": "code",
   "execution_count": 208,
   "metadata": {},
   "outputs": [
    {
     "data": {
      "text/plain": [
       "Index([u'SCHOOL ID', u'SCHOOL NAME', u'ADDRESS', u'REGION', u'DIVISION',\n",
       "       u'MUNICIPALITY', u'BARANGGAY', u'LATITUDE', u'LONGITUDE', u'MAPPED',\n",
       "       u'INVALID', u'GMAP_MAPPED', u'GMAP_LAT1', u'GMAP_LON1', u'GMAP_LAT2',\n",
       "       u'GMAP_LON2', u'GMAP_DELTA_KM', u'Reg_Code', u'Reg_Name', u'Pro_Code',\n",
       "       u'Pro_Name', u'Mun_Code', u'Mun_Name', u'Bgy_Code', u'Bgy_Name',\n",
       "       u'MATCH_BARANGAY', u'MATCH_MUNICIPALITY', u'MATCH_REGION'],\n",
       "      dtype='object')"
      ]
     },
     "execution_count": 208,
     "metadata": {},
     "output_type": "execute_result"
    }
   ],
   "source": [
    "dfB2.columns"
   ]
  },
  {
   "cell_type": "code",
   "execution_count": 209,
   "metadata": {},
   "outputs": [],
   "source": [
    "# rename columns\n",
    "dfB2.columns = [u'SCHOOL ID', u'SCHOOL NAME', u'ADDRESS', u'REGION', u'DIVISION',\n",
    "       u'MUNICIPALITY', u'BARANGGAY', u'LATITUDE', u'LONGITUDE', u'MAPPED',\n",
    "       u'INVALID', u'GMAP_MAPPED', u'GMAP_LAT1', u'GMAP_LON1', u'GMAP_LAT2',\n",
    "       u'GMAP_LON2', u'GMAP_DELTA_KM', u'Reg_Code', u'Reg_Name', u'Pro_Code',\n",
    "       u'Pro_Name', u'Mun_Code', u'Mun_Name', u'Bgy_Code', u'Bgy_Name',\n",
    "       u'MATCH_BARANGAY', u'MATCH_MUNICIPALITY', u'MATCH_REGION']"
   ]
  },
  {
   "cell_type": "code",
   "execution_count": 210,
   "metadata": {},
   "outputs": [
    {
     "data": {
      "text/plain": [
       "(5930, 483.0)"
      ]
     },
     "execution_count": 210,
     "metadata": {},
     "output_type": "execute_result"
    }
   ],
   "source": [
    "len(dfB1[dfB1[\"GMAP_MAPPED\"]==1]), dfB2[\"GMAP_MAPPED\"].sum()"
   ]
  },
  {
   "cell_type": "code",
   "execution_count": 211,
   "metadata": {},
   "outputs": [
    {
     "data": {
      "text/plain": [
       "11"
      ]
     },
     "execution_count": 211,
     "metadata": {},
     "output_type": "execute_result"
    }
   ],
   "source": [
    "len(dfB1[(dfB1[\"GMAP_MAPPED\"]==1) & (dfB2[\"GMAP_MAPPED\"]==1)]) # intersection between B1 & B2"
   ]
  },
  {
   "cell_type": "code",
   "execution_count": 212,
   "metadata": {},
   "outputs": [],
   "source": [
    "# fill in GMAP fields from B2 if not in B1\n",
    "dfB = dfB1.copy()\n",
    "for col in [u'GMAP_LAT1', u'GMAP_LON1', u'GMAP_LAT2',\n",
    "       u'GMAP_LON2', u'GMAP_DELTA_KM', u'Reg_Code', u'Reg_Name', u'Pro_Code',\n",
    "       u'Pro_Name', u'Mun_Code', u'Mun_Name', u'Bgy_Code', u'Bgy_Name', u'MATCH_BARANGAY', u'MATCH_MUNICIPALITY',\n",
    "       u'MATCH_REGION', \"GMAP_MAPPED\", \"INVALID\"]:\n",
    "    dfB.loc[dfB1[\"GMAP_MAPPED\"]!=1, col] = dfB2.loc[dfB1[\"GMAP_MAPPED\"]!=1, col]"
   ]
  },
  {
   "cell_type": "code",
   "execution_count": 213,
   "metadata": {},
   "outputs": [
    {
     "data": {
      "text/plain": [
       "1.0    6402\n",
       "Name: GMAP_MAPPED, dtype: int64"
      ]
     },
     "execution_count": 213,
     "metadata": {},
     "output_type": "execute_result"
    }
   ],
   "source": [
    "dfB[\"GMAP_MAPPED\"].value_counts()"
   ]
  },
  {
   "cell_type": "code",
   "execution_count": 214,
   "metadata": {},
   "outputs": [
    {
     "data": {
      "text/plain": [
       "6402"
      ]
     },
     "execution_count": 214,
     "metadata": {},
     "output_type": "execute_result"
    }
   ],
   "source": [
    "len(dfB[dfB[\"GMAP_LAT1\"].notnull() | dfB[\"GMAP_LAT2\"].notnull()])"
   ]
  },
  {
   "cell_type": "code",
   "execution_count": 215,
   "metadata": {},
   "outputs": [
    {
     "data": {
      "text/plain": [
       "0.0    6051\n",
       "1.0     351\n",
       "Name: INVALID, dtype: int64"
      ]
     },
     "execution_count": 215,
     "metadata": {},
     "output_type": "execute_result"
    }
   ],
   "source": [
    "dfB[\"INVALID\"].value_counts()"
   ]
  },
  {
   "cell_type": "code",
   "execution_count": 216,
   "metadata": {},
   "outputs": [
    {
     "data": {
      "text/plain": [
       "(1747, 4655)"
      ]
     },
     "execution_count": 216,
     "metadata": {},
     "output_type": "execute_result"
    }
   ],
   "source": [
    "len(dfB[dfB[\"GMAP_DELTA_KM\"]==0]), len(dfB[(dfB[\"GMAP_DELTA_KM\"]!=0) & (dfB[\"GMAP_MAPPED\"]==1)])"
   ]
  },
  {
   "cell_type": "code",
   "execution_count": 217,
   "metadata": {},
   "outputs": [
    {
     "data": {
      "text/plain": [
       "6402"
      ]
     },
     "execution_count": 217,
     "metadata": {},
     "output_type": "execute_result"
    }
   ],
   "source": [
    "len(dfB[dfB[\"GMAP_DELTA_KM\"]==0]) + len(dfB[(dfB[\"GMAP_DELTA_KM\"]!=0) & (dfB[\"GMAP_MAPPED\"]==1)])"
   ]
  },
  {
   "cell_type": "code",
   "execution_count": 218,
   "metadata": {},
   "outputs": [
    {
     "data": {
      "text/plain": [
       "0.7271165260855983"
      ]
     },
     "execution_count": 218,
     "metadata": {},
     "output_type": "execute_result"
    }
   ],
   "source": [
    "len(dfB[(dfB[\"GMAP_DELTA_KM\"]!=0) & (dfB[\"GMAP_MAPPED\"]==1)])*1./(len(dfB[dfB[\"GMAP_DELTA_KM\"]==0]) + len(dfB[(dfB[\"GMAP_DELTA_KM\"]!=0) & (dfB[\"GMAP_MAPPED\"]==1)]))"
   ]
  },
  {
   "cell_type": "code",
   "execution_count": 219,
   "metadata": {},
   "outputs": [
    {
     "name": "stderr",
     "output_type": "stream",
     "text": [
      "/opt/anaconda2/lib/python2.7/site-packages/ipykernel_launcher.py:1: SettingWithCopyWarning: \n",
      "A value is trying to be set on a copy of a slice from a DataFrame.\n",
      "Try using .loc[row_indexer,col_indexer] = value instead\n",
      "\n",
      "See the caveats in the documentation: http://pandas.pydata.org/pandas-docs/stable/indexing.html#indexing-view-versus-copy\n",
      "  \"\"\"Entry point for launching an IPython kernel.\n"
     ]
    }
   ],
   "source": [
    "df_out[\"GMAP_COORD\"] = -1\n",
    "df_out.loc[(dfB[\"GMAP_MAPPED\"]!=1) | (dfB[\"GMAP_DELTA_KM\"]==0), \"GMAP_COORD\"] = 0 # not successfully geocoded in Google Maps\n",
    "df_out.loc[(df_out[\"GMAP_COORD\"]==-1) & (dfB[\"INVALID\"]==0), \"GMAP_COORD\"] = 1 # geocoded and validated\n",
    "df_out.loc[(df_out[\"GMAP_COORD\"]==-1) & (dfB[\"INVALID\"]==1), \"GMAP_COORD\"] = 2 # geocoded and invalid"
   ]
  },
  {
   "cell_type": "code",
   "execution_count": 220,
   "metadata": {},
   "outputs": [
    {
     "data": {
      "text/plain": [
       "0    42703\n",
       "1     4383\n",
       "2      272\n",
       "Name: GMAP_COORD, dtype: int64"
      ]
     },
     "execution_count": 220,
     "metadata": {},
     "output_type": "execute_result"
    }
   ],
   "source": [
    "df_out[\"GMAP_COORD\"].value_counts()"
   ]
  },
  {
   "cell_type": "code",
   "execution_count": 221,
   "metadata": {},
   "outputs": [
    {
     "name": "stderr",
     "output_type": "stream",
     "text": [
      "/opt/anaconda2/lib/python2.7/site-packages/ipykernel_launcher.py:1: SettingWithCopyWarning: \n",
      "A value is trying to be set on a copy of a slice from a DataFrame.\n",
      "Try using .loc[row_indexer,col_indexer] = value instead\n",
      "\n",
      "See the caveats in the documentation: http://pandas.pydata.org/pandas-docs/stable/indexing.html#indexing-view-versus-copy\n",
      "  \"\"\"Entry point for launching an IPython kernel.\n",
      "/opt/anaconda2/lib/python2.7/site-packages/ipykernel_launcher.py:2: SettingWithCopyWarning: \n",
      "A value is trying to be set on a copy of a slice from a DataFrame.\n",
      "Try using .loc[row_indexer,col_indexer] = value instead\n",
      "\n",
      "See the caveats in the documentation: http://pandas.pydata.org/pandas-docs/stable/indexing.html#indexing-view-versus-copy\n",
      "  \n",
      "/opt/anaconda2/lib/python2.7/site-packages/ipykernel_launcher.py:3: SettingWithCopyWarning: \n",
      "A value is trying to be set on a copy of a slice from a DataFrame.\n",
      "Try using .loc[row_indexer,col_indexer] = value instead\n",
      "\n",
      "See the caveats in the documentation: http://pandas.pydata.org/pandas-docs/stable/indexing.html#indexing-view-versus-copy\n",
      "  This is separate from the ipykernel package so we can avoid doing imports until\n"
     ]
    }
   ],
   "source": [
    "df_out[\"GMAP_LONGITUDE\"] = dfB[\"GMAP_LON1\"]\n",
    "df_out[\"GMAP_LATITUDE\"] = dfB[\"GMAP_LAT1\"]\n",
    "df_out[\"GMAP_DELTA_KM\"] = dfB[\"GMAP_DELTA_KM\"]"
   ]
  },
  {
   "cell_type": "code",
   "execution_count": 222,
   "metadata": {},
   "outputs": [
    {
     "name": "stderr",
     "output_type": "stream",
     "text": [
      "/opt/anaconda2/lib/python2.7/site-packages/ipykernel_launcher.py:2: SettingWithCopyWarning: \n",
      "A value is trying to be set on a copy of a slice from a DataFrame.\n",
      "Try using .loc[row_indexer,col_indexer] = value instead\n",
      "\n",
      "See the caveats in the documentation: http://pandas.pydata.org/pandas-docs/stable/indexing.html#indexing-view-versus-copy\n",
      "  \n"
     ]
    }
   ],
   "source": [
    "# define SOURCE_COORD\n",
    "df_out[\"SOURCE_COORD\"] = \"\"\n",
    "df_out.loc[df_out[\"DEPED_COORD\"]==1, \"SOURCE_COORD\"] = \"DEPED\"\n",
    "df_out.loc[(df_out[\"DEPED_COORD\"]!=1) & (df_out[\"GMAP_COORD\"]==1), \"SOURCE_COORD\"] = \"GMAP\""
   ]
  },
  {
   "cell_type": "code",
   "execution_count": 223,
   "metadata": {},
   "outputs": [
    {
     "data": {
      "text/plain": [
       "DEPED    41712\n",
       "GMAP      3621\n",
       "          2025\n",
       "Name: SOURCE_COORD, dtype: int64"
      ]
     },
     "execution_count": 223,
     "metadata": {},
     "output_type": "execute_result"
    }
   ],
   "source": [
    "df_out[\"SOURCE_COORD\"].value_counts()"
   ]
  },
  {
   "cell_type": "code",
   "execution_count": 224,
   "metadata": {},
   "outputs": [
    {
     "data": {
      "text/plain": [
       "DEPED    0.880780\n",
       "GMAP     0.076460\n",
       "         0.042759\n",
       "Name: SOURCE_COORD, dtype: float64"
      ]
     },
     "execution_count": 224,
     "metadata": {},
     "output_type": "execute_result"
    }
   ],
   "source": [
    "df_out[\"SOURCE_COORD\"].value_counts(1)"
   ]
  },
  {
   "cell_type": "code",
   "execution_count": 225,
   "metadata": {},
   "outputs": [
    {
     "name": "stderr",
     "output_type": "stream",
     "text": [
      "/opt/anaconda2/lib/python2.7/site-packages/ipykernel_launcher.py:4: SettingWithCopyWarning: \n",
      "A value is trying to be set on a copy of a slice from a DataFrame.\n",
      "Try using .loc[row_indexer,col_indexer] = value instead\n",
      "\n",
      "See the caveats in the documentation: http://pandas.pydata.org/pandas-docs/stable/indexing.html#indexing-view-versus-copy\n",
      "  after removing the cwd from sys.path.\n"
     ]
    }
   ],
   "source": [
    "# get LON, LAT for source coord\n",
    "subs = [\"LONGITUDE\", \"LATITUDE\"]\n",
    "for sub in subs:\n",
    "    df_out[sub] = np.nan\n",
    "    df_out.loc[df_out[\"SOURCE_COORD\"]==\"DEPED\", sub] = df_out.loc[df_out[\"SOURCE_COORD\"]==\"DEPED\", \"DEPED_\"+sub] \n",
    "    df_out.loc[df_out[\"SOURCE_COORD\"]==\"GMAP\", sub] = df_out.loc[df_out[\"SOURCE_COORD\"]==\"GMAP\", \"GMAP_\"+sub] "
   ]
  },
  {
   "cell_type": "code",
   "execution_count": 226,
   "metadata": {},
   "outputs": [],
   "source": [
    "# get PSGC etc. for source coord\n",
    "subs = [\"Bgy_Code\", \"Bgy_Name\", \"Mun_Code\", \"Mun_Name\", \"Pro_Code\", \"Pro_Name\", \"Reg_Code\", \"Reg_Name\"]\n",
    "subs2 = [\"PSGC_BARANGAY\", \"BARANGAY\", \"PSGC_MUNICIPALITY\", \"MUNICIPALITY\", \"PSGC_PROVINCE\", \"PROVINCE\", \"PSGC_REGION\", \"REGION\"]\n",
    "for i in np.arange(len(subs)):\n",
    "    sub, sub2 = subs[i], subs2[i]\n",
    "    df_out.loc[df_out[\"SOURCE_COORD\"]==\"DEPED\", sub2] = dfA.loc[df_out[\"SOURCE_COORD\"]==\"DEPED\", sub]\n",
    "    df_out.loc[df_out[\"SOURCE_COORD\"]==\"GMAP\", sub2] = dfA.loc[df_out[\"SOURCE_COORD\"]==\"GMAP\", sub]"
   ]
  },
  {
   "cell_type": "code",
   "execution_count": 241,
   "metadata": {},
   "outputs": [],
   "source": [
    "# get DELTA_KM\n",
    "df_out[\"DELTA_KM\"] = np.nan\n",
    "for i in np.arange(len(df_out)):\n",
    "    j = df_out.index[i]\n",
    "    if((df_out.loc[j, \"DEPED_COORD\"]!=0) & (df_out.loc[j, \"GMAP_COORD\"]!=0)):\n",
    "        lon1, lat1 = df_out.loc[j, \"DEPED_LONGITUDE\"], df_out.loc[j, \"DEPED_LATITUDE\"] # DepEd coordinates\n",
    "        lon2, lat2 = df_out.loc[j, \"GMAP_LONGITUDE\"], df_out.loc[j, \"GMAP_LATITUDE\"] # GMap coordinates\n",
    "        coord1, coord2 = (lon1, lat1), (lon2, lat2)\n",
    "        delta_km = haversine.Haversine(coord1, coord2).km\n",
    "        df_out.loc[j, \"DELTA_KM\"] = delta_km"
   ]
  },
  {
   "cell_type": "code",
   "execution_count": 242,
   "metadata": {},
   "outputs": [
    {
     "data": {
      "text/plain": [
       "1143"
      ]
     },
     "execution_count": 242,
     "metadata": {},
     "output_type": "execute_result"
    }
   ],
   "source": [
    "len(df_out[(df_out[\"DEPED_COORD\"]!=0) & (df_out[\"GMAP_COORD\"]!=0)])"
   ]
  },
  {
   "cell_type": "code",
   "execution_count": 243,
   "metadata": {},
   "outputs": [
    {
     "data": {
      "text/plain": [
       "count     851.000000\n",
       "mean       59.998836\n",
       "std       166.974907\n",
       "min         0.000000\n",
       "25%         0.084804\n",
       "50%         2.580416\n",
       "75%        14.703794\n",
       "max      1199.601328\n",
       "Name: DELTA_KM, dtype: float64"
      ]
     },
     "execution_count": 243,
     "metadata": {},
     "output_type": "execute_result"
    }
   ],
   "source": [
    "df_out[\"DELTA_KM\"].describe()"
   ]
  },
  {
   "cell_type": "code",
   "execution_count": 244,
   "metadata": {},
   "outputs": [
    {
     "data": {
      "text/plain": [
       "Index([u'SCHOOL ID', u'SCHOOL NAME', u'DIVISION', u'ADDRESS',\n",
       "       u'DEPED_BARANGAY', u'DEPED_MUNICIPALITY', u'DEPED_REGION',\n",
       "       u'DEPED_COORD', u'DEPED_LONGITUDE', u'DEPED_LATITUDE', u'GMAP_COORD',\n",
       "       u'GMAP_LONGITUDE', u'GMAP_LATITUDE', u'GMAP_DELTA_KM', u'SOURCE_COORD',\n",
       "       u'LONGITUDE', u'LATITUDE', u'PSGC_BARANGAY', u'BARANGAY',\n",
       "       u'PSGC_MUNICIPALITY', u'MUNICIPALITY', u'PSGC_PROVINCE', u'PROVINCE',\n",
       "       u'PSGC_REGION', u'REGION', u'DELTA_KM'],\n",
       "      dtype='object')"
      ]
     },
     "execution_count": 244,
     "metadata": {},
     "output_type": "execute_result"
    }
   ],
   "source": [
    "df_out.columns"
   ]
  },
  {
   "cell_type": "code",
   "execution_count": 245,
   "metadata": {},
   "outputs": [],
   "source": [
    "df_out.to_csv(fn_out, index=False)"
   ]
  },
  {
   "cell_type": "code",
   "execution_count": 246,
   "metadata": {},
   "outputs": [
    {
     "data": {
      "text/plain": [
       "1143"
      ]
     },
     "execution_count": 246,
     "metadata": {},
     "output_type": "execute_result"
    }
   ],
   "source": [
    "df_both = df_out[(df_out[\"DEPED_COORD\"]!=0) & (df_out[\"GMAP_COORD\"]!=0)]\n",
    "len(df_both)"
   ]
  },
  {
   "cell_type": "code",
   "execution_count": 247,
   "metadata": {},
   "outputs": [
    {
     "data": {
      "text/plain": [
       "1    811\n",
       "2    227\n",
       "3    105\n",
       "Name: DEPED_COORD, dtype: int64"
      ]
     },
     "execution_count": 247,
     "metadata": {},
     "output_type": "execute_result"
    }
   ],
   "source": [
    "df_both[\"DEPED_COORD\"].value_counts()"
   ]
  },
  {
   "cell_type": "code",
   "execution_count": 248,
   "metadata": {},
   "outputs": [
    {
     "data": {
      "text/plain": [
       "1    1063\n",
       "2      80\n",
       "Name: GMAP_COORD, dtype: int64"
      ]
     },
     "execution_count": 248,
     "metadata": {},
     "output_type": "execute_result"
    }
   ],
   "source": [
    "df_both[\"GMAP_COORD\"].value_counts()"
   ]
  },
  {
   "cell_type": "code",
   "execution_count": null,
   "metadata": {},
   "outputs": [],
   "source": []
  }
 ],
 "metadata": {
  "kernelspec": {
   "display_name": "Python 2",
   "language": "python",
   "name": "python2"
  },
  "language_info": {
   "codemirror_mode": {
    "name": "ipython",
    "version": 2
   },
   "file_extension": ".py",
   "mimetype": "text/x-python",
   "name": "python",
   "nbconvert_exporter": "python",
   "pygments_lexer": "ipython2",
   "version": "2.7.16"
  }
 },
 "nbformat": 4,
 "nbformat_minor": 2
}
