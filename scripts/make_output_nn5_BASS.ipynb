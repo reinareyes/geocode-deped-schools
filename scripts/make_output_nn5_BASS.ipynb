{
 "cells": [
  {
   "cell_type": "code",
   "execution_count": 1,
   "metadata": {},
   "outputs": [],
   "source": [
    "import numpy as np\n",
    "import pandas as pd\n",
    "import haversine\n",
    "import math\n",
    "import matplotlib.pyplot as plt\n",
    "%matplotlib inline"
   ]
  },
  {
   "cell_type": "code",
   "execution_count": 12,
   "metadata": {},
   "outputs": [],
   "source": [
    "fn_out = \"../output/nn5_BASS_ALBAY.csv\""
   ]
  },
  {
   "cell_type": "code",
   "execution_count": 6,
   "metadata": {},
   "outputs": [],
   "source": [
    "fn = \"../data/BASSCellSiteLocation.csv\"\n",
    "df = pd.read_csv(fn)"
   ]
  },
  {
   "cell_type": "code",
   "execution_count": 7,
   "metadata": {},
   "outputs": [
    {
     "data": {
      "text/plain": [
       "33673"
      ]
     },
     "execution_count": 7,
     "metadata": {},
     "output_type": "execute_result"
    }
   ],
   "source": [
    "len(df)"
   ]
  },
  {
   "cell_type": "code",
   "execution_count": 8,
   "metadata": {},
   "outputs": [
    {
     "data": {
      "text/html": [
       "<div>\n",
       "<style scoped>\n",
       "    .dataframe tbody tr th:only-of-type {\n",
       "        vertical-align: middle;\n",
       "    }\n",
       "\n",
       "    .dataframe tbody tr th {\n",
       "        vertical-align: top;\n",
       "    }\n",
       "\n",
       "    .dataframe thead th {\n",
       "        text-align: right;\n",
       "    }\n",
       "</style>\n",
       "<table border=\"1\" class=\"dataframe\">\n",
       "  <thead>\n",
       "    <tr style=\"text-align: right;\">\n",
       "      <th></th>\n",
       "      <th>CID</th>\n",
       "      <th>LAC</th>\n",
       "      <th>Operator</th>\n",
       "      <th>Province</th>\n",
       "      <th>Municipality</th>\n",
       "      <th>GPSCoordinates</th>\n",
       "      <th>MedianBandwidth</th>\n",
       "      <th>Longitude</th>\n",
       "      <th>Latitude</th>\n",
       "      <th>LEN</th>\n",
       "    </tr>\n",
       "  </thead>\n",
       "  <tbody>\n",
       "    <tr>\n",
       "      <th>0</th>\n",
       "      <td>35540737.0</td>\n",
       "      <td>3004</td>\n",
       "      <td>NaN</td>\n",
       "      <td>Cavite</td>\n",
       "      <td>General Mariano Alvarez</td>\n",
       "      <td>121.01253750000001,14.302141000000001</td>\n",
       "      <td>28.0</td>\n",
       "      <td>121.012537</td>\n",
       "      <td>14.302141</td>\n",
       "      <td>19</td>\n",
       "    </tr>\n",
       "    <tr>\n",
       "      <th>1</th>\n",
       "      <td>223188122.0</td>\n",
       "      <td>35601</td>\n",
       "      <td>NaN</td>\n",
       "      <td>Sorsogon</td>\n",
       "      <td>Matnog</td>\n",
       "      <td>124.09332000000001,12.53529</td>\n",
       "      <td>43.0</td>\n",
       "      <td>124.093320</td>\n",
       "      <td>12.535290</td>\n",
       "      <td>19</td>\n",
       "    </tr>\n",
       "  </tbody>\n",
       "</table>\n",
       "</div>"
      ],
      "text/plain": [
       "           CID    LAC Operator  Province             Municipality  \\\n",
       "0   35540737.0   3004      NaN    Cavite  General Mariano Alvarez   \n",
       "1  223188122.0  35601      NaN  Sorsogon                   Matnog   \n",
       "\n",
       "                          GPSCoordinates  MedianBandwidth   Longitude  \\\n",
       "0  121.01253750000001,14.302141000000001             28.0  121.012537   \n",
       "1            124.09332000000001,12.53529             43.0  124.093320   \n",
       "\n",
       "    Latitude  LEN  \n",
       "0  14.302141   19  \n",
       "1  12.535290   19  "
      ]
     },
     "execution_count": 8,
     "metadata": {},
     "output_type": "execute_result"
    }
   ],
   "source": [
    "df.head(2)"
   ]
  },
  {
   "cell_type": "code",
   "execution_count": 9,
   "metadata": {},
   "outputs": [
    {
     "data": {
      "text/plain": [
       "91"
      ]
     },
     "execution_count": 9,
     "metadata": {},
     "output_type": "execute_result"
    }
   ],
   "source": [
    "df1 = df[df[\"Province\"]==\"Albay\"]\n",
    "len(df1)"
   ]
  },
  {
   "cell_type": "code",
   "execution_count": 10,
   "metadata": {},
   "outputs": [],
   "source": [
    "df_sub = df1.copy().reset_index()\n",
    "nsub = len(df_sub)\n",
    "\n",
    "lon = df_sub[\"Longitude\"]\n",
    "lat = df_sub[\"Latitude\"]\n",
    "\n",
    "# initialize output dataframe\n",
    "df_out = pd.DataFrame()\n",
    "cols = [\"ID\", \"JUNK\", \"LONGITUDE\", \"LATITUDE\", \"ID1\", \"ID2\", \"ID3\", \"ID4\", \"ID5\", \"D1\", \"D2\", \"D3\", \"D4\", \"D5\"]\n",
    "for col in cols:\n",
    "    df_out[col] = np.zeros(nsub)\n",
    "\n",
    "for i in np.arange(nsub):\n",
    "    school_id = i #df_sub.loc[i, \"SCHOOL ID\"]\n",
    "    source_coord = \"\" #df_sub.loc[i, \"SOURCE_COORD\"]\n",
    "    di = np.zeros(nsub) + np.nan # initialize array for distances to other schools\n",
    "    lon1, lat1 = lon[i], lat[i]\n",
    "    for j in np.arange(nsub):    \n",
    "        lon2, lat2 = lon[j], lat[j]\n",
    "        coord1, coord2 = (lon1, lat1), (lon2, lat2)\n",
    "        dij = haversine.Haversine(coord1, coord2).km\n",
    "        di[j] = dij\n",
    "    # get nearest nn neighbors\n",
    "    jsort = np.argsort(di)\n",
    "    jnn = jsort[1:6]  # remove i=j\n",
    "    idnn = jnn #df_sub.loc[jnn, \"SCHOOL ID\"].values\n",
    "    dnn = di[jnn]\n",
    "    out = np.array([school_id, source_coord, lon1, lat1, idnn[0], idnn[1], idnn[2], idnn[3], idnn[4], dnn[0], dnn[1], dnn[2], dnn[3], dnn[4]])\n",
    "    df_out.loc[i,:] = out"
   ]
  },
  {
   "cell_type": "code",
   "execution_count": 13,
   "metadata": {},
   "outputs": [],
   "source": [
    "df_out.to_csv(fn_out, index=False)"
   ]
  },
  {
   "cell_type": "code",
   "execution_count": null,
   "metadata": {},
   "outputs": [],
   "source": []
  }
 ],
 "metadata": {
  "kernelspec": {
   "display_name": "Python 2",
   "language": "python",
   "name": "python2"
  },
  "language_info": {
   "codemirror_mode": {
    "name": "ipython",
    "version": 2
   },
   "file_extension": ".py",
   "mimetype": "text/x-python",
   "name": "python",
   "nbconvert_exporter": "python",
   "pygments_lexer": "ipython2",
   "version": "2.7.16"
  }
 },
 "nbformat": 4,
 "nbformat_minor": 2
}
