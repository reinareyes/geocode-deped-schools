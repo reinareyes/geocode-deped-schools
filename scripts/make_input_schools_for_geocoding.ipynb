{
 "cells": [
  {
   "cell_type": "code",
   "execution_count": 178,
   "metadata": {},
   "outputs": [],
   "source": [
    "import numpy as np\n",
    "import pandas as pd\n",
    "import random"
   ]
  },
  {
   "cell_type": "code",
   "execution_count": 179,
   "metadata": {},
   "outputs": [],
   "source": [
    "random.seed(123)"
   ]
  },
  {
   "cell_type": "code",
   "execution_count": 180,
   "metadata": {},
   "outputs": [],
   "source": [
    "fn = \"../data/deped_school_location_with_enrolment_2017_2018.csv\"\n",
    "df = pd.read_csv(fn)"
   ]
  },
  {
   "cell_type": "code",
   "execution_count": 181,
   "metadata": {},
   "outputs": [],
   "source": [
    "fn_out = \"../input/schools_for_geocoding.csv\""
   ]
  },
  {
   "cell_type": "code",
   "execution_count": 182,
   "metadata": {},
   "outputs": [
    {
     "data": {
      "text/html": [
       "<div>\n",
       "<style scoped>\n",
       "    .dataframe tbody tr th:only-of-type {\n",
       "        vertical-align: middle;\n",
       "    }\n",
       "\n",
       "    .dataframe tbody tr th {\n",
       "        vertical-align: top;\n",
       "    }\n",
       "\n",
       "    .dataframe thead th {\n",
       "        text-align: right;\n",
       "    }\n",
       "</style>\n",
       "<table border=\"1\" class=\"dataframe\">\n",
       "  <thead>\n",
       "    <tr style=\"text-align: right;\">\n",
       "      <th></th>\n",
       "      <th>SCHOOL ID</th>\n",
       "      <th>SCHOOL NAME</th>\n",
       "      <th>ADDRESS</th>\n",
       "      <th>REGION</th>\n",
       "      <th>DIVISION</th>\n",
       "      <th>MUNICIPALITY</th>\n",
       "      <th>BARANGGAY</th>\n",
       "      <th>LATITUDE</th>\n",
       "      <th>LONGITUDE</th>\n",
       "      <th>MAPPED</th>\n",
       "    </tr>\n",
       "  </thead>\n",
       "  <tbody>\n",
       "    <tr>\n",
       "      <th>0</th>\n",
       "      <td>100160</td>\n",
       "      <td>Adams CES</td>\n",
       "      <td>Pob. 1, Adams, Ilocos Norte</td>\n",
       "      <td>Region I</td>\n",
       "      <td>Ilocos Norte</td>\n",
       "      <td>ADAMS</td>\n",
       "      <td>ADAMS (POB.)</td>\n",
       "      <td>18.462302</td>\n",
       "      <td>120.901845</td>\n",
       "      <td>1</td>\n",
       "    </tr>\n",
       "    <tr>\n",
       "      <th>1</th>\n",
       "      <td>100163</td>\n",
       "      <td>Bucarot PS</td>\n",
       "      <td>Bucarot, Adams, Ilocos Norte</td>\n",
       "      <td>Region I</td>\n",
       "      <td>Ilocos Norte</td>\n",
       "      <td>ADAMS</td>\n",
       "      <td>ADAMS (POB.)</td>\n",
       "      <td>18.462088</td>\n",
       "      <td>120.903605</td>\n",
       "      <td>1</td>\n",
       "    </tr>\n",
       "    <tr>\n",
       "      <th>2</th>\n",
       "      <td>150007</td>\n",
       "      <td>MALAGGAO PS</td>\n",
       "      <td>Malaggao, Adams, Ilocos Norte</td>\n",
       "      <td>Region I</td>\n",
       "      <td>Ilocos Norte</td>\n",
       "      <td>ADAMS</td>\n",
       "      <td>ADAMS (POB.)</td>\n",
       "      <td>18.458749</td>\n",
       "      <td>120.905469</td>\n",
       "      <td>1</td>\n",
       "    </tr>\n",
       "  </tbody>\n",
       "</table>\n",
       "</div>"
      ],
      "text/plain": [
       "   SCHOOL ID  SCHOOL NAME                        ADDRESS    REGION  \\\n",
       "0     100160    Adams CES    Pob. 1, Adams, Ilocos Norte  Region I   \n",
       "1     100163   Bucarot PS   Bucarot, Adams, Ilocos Norte  Region I   \n",
       "2     150007  MALAGGAO PS  Malaggao, Adams, Ilocos Norte  Region I   \n",
       "\n",
       "       DIVISION MUNICIPALITY     BARANGGAY   LATITUDE   LONGITUDE  MAPPED  \n",
       "0  Ilocos Norte        ADAMS  ADAMS (POB.)  18.462302  120.901845       1  \n",
       "1  Ilocos Norte        ADAMS  ADAMS (POB.)  18.462088  120.903605       1  \n",
       "2  Ilocos Norte        ADAMS  ADAMS (POB.)  18.458749  120.905469       1  "
      ]
     },
     "execution_count": 182,
     "metadata": {},
     "output_type": "execute_result"
    }
   ],
   "source": [
    "df.head(3)"
   ]
  },
  {
   "cell_type": "code",
   "execution_count": 183,
   "metadata": {},
   "outputs": [
    {
     "data": {
      "text/plain": [
       "47358"
      ]
     },
     "execution_count": 183,
     "metadata": {},
     "output_type": "execute_result"
    }
   ],
   "source": [
    "len(df)"
   ]
  },
  {
   "cell_type": "code",
   "execution_count": 184,
   "metadata": {},
   "outputs": [
    {
     "name": "stdout",
     "output_type": "stream",
     "text": [
      "SCHOOL ID int64\n",
      "SCHOOL NAME object\n",
      "ADDRESS object\n",
      "REGION object\n",
      "DIVISION object\n",
      "MUNICIPALITY object\n",
      "BARANGGAY object\n",
      "LATITUDE object\n",
      "LONGITUDE float64\n",
      "MAPPED int64\n"
     ]
    }
   ],
   "source": [
    "for col in df.columns:\n",
    "    print col, df[col].dtype"
   ]
  },
  {
   "cell_type": "code",
   "execution_count": 185,
   "metadata": {},
   "outputs": [
    {
     "data": {
      "text/plain": [
       "1    42214\n",
       "0     5144\n",
       "Name: MAPPED, dtype: int64"
      ]
     },
     "execution_count": 185,
     "metadata": {},
     "output_type": "execute_result"
    }
   ],
   "source": [
    "df[\"MAPPED\"].value_counts()"
   ]
  },
  {
   "cell_type": "code",
   "execution_count": 186,
   "metadata": {},
   "outputs": [
    {
     "data": {
      "text/plain": [
       "(42214, 5144)"
      ]
     },
     "execution_count": 186,
     "metadata": {},
     "output_type": "execute_result"
    }
   ],
   "source": [
    "df1 = df[df[\"MAPPED\"]==1] #mapped\n",
    "df2 = df[df[\"MAPPED\"]==0] #not mapped\n",
    "len(df1), len(df2)"
   ]
  },
  {
   "cell_type": "code",
   "execution_count": 187,
   "metadata": {},
   "outputs": [],
   "source": [
    "# select 1000 records randomly from the mapped schools\n",
    "nrand = 1000\n",
    "irand = random.sample(df1.index,nrand)\n",
    "df1r = df1.loc[irand,:]"
   ]
  },
  {
   "cell_type": "code",
   "execution_count": 188,
   "metadata": {},
   "outputs": [
    {
     "data": {
      "text/html": [
       "<div>\n",
       "<style scoped>\n",
       "    .dataframe tbody tr th:only-of-type {\n",
       "        vertical-align: middle;\n",
       "    }\n",
       "\n",
       "    .dataframe tbody tr th {\n",
       "        vertical-align: top;\n",
       "    }\n",
       "\n",
       "    .dataframe thead th {\n",
       "        text-align: right;\n",
       "    }\n",
       "</style>\n",
       "<table border=\"1\" class=\"dataframe\">\n",
       "  <thead>\n",
       "    <tr style=\"text-align: right;\">\n",
       "      <th></th>\n",
       "      <th>SCHOOL ID</th>\n",
       "      <th>SCHOOL NAME</th>\n",
       "      <th>ADDRESS</th>\n",
       "      <th>REGION</th>\n",
       "      <th>DIVISION</th>\n",
       "      <th>MUNICIPALITY</th>\n",
       "      <th>BARANGGAY</th>\n",
       "      <th>LATITUDE</th>\n",
       "      <th>LONGITUDE</th>\n",
       "      <th>MAPPED</th>\n",
       "    </tr>\n",
       "  </thead>\n",
       "  <tbody>\n",
       "    <tr>\n",
       "      <th>2327</th>\n",
       "      <td>102059</td>\n",
       "      <td>Salvacion ES</td>\n",
       "      <td>M. Agustin St.</td>\n",
       "      <td>Region I</td>\n",
       "      <td>Pangasinan II, Binalonan</td>\n",
       "      <td>SANTO TOMAS</td>\n",
       "      <td>SALVACION</td>\n",
       "      <td>15.881154</td>\n",
       "      <td>120.592139</td>\n",
       "      <td>1</td>\n",
       "    </tr>\n",
       "    <tr>\n",
       "      <th>3908</th>\n",
       "      <td>103178</td>\n",
       "      <td>Rang-ay Elementary School</td>\n",
       "      <td>NOT APPLICABLE</td>\n",
       "      <td>Region II</td>\n",
       "      <td>Isabela</td>\n",
       "      <td>CABATUAN</td>\n",
       "      <td>RANG-AY (CAGGONG)</td>\n",
       "      <td>16.92228611</td>\n",
       "      <td>121.613419</td>\n",
       "      <td>1</td>\n",
       "    </tr>\n",
       "    <tr>\n",
       "      <th>18640</th>\n",
       "      <td>114603</td>\n",
       "      <td>Tabaco North CS</td>\n",
       "      <td>Bombon, Tabaco City</td>\n",
       "      <td>Region V</td>\n",
       "      <td>Tabaco City</td>\n",
       "      <td>CITY OF TABACO</td>\n",
       "      <td>BOMBON (POB.)</td>\n",
       "      <td>13.361281</td>\n",
       "      <td>123.725157</td>\n",
       "      <td>1</td>\n",
       "    </tr>\n",
       "    <tr>\n",
       "      <th>5275</th>\n",
       "      <td>300505</td>\n",
       "      <td>Cabulay High School</td>\n",
       "      <td>-Blanco St., Purok 3</td>\n",
       "      <td>Region II</td>\n",
       "      <td>Santiago City</td>\n",
       "      <td>CITY OF SANTIAGO</td>\n",
       "      <td>CABULAY</td>\n",
       "      <td>16.719275</td>\n",
       "      <td>121.502084</td>\n",
       "      <td>1</td>\n",
       "    </tr>\n",
       "    <tr>\n",
       "      <th>40965</th>\n",
       "      <td>132103</td>\n",
       "      <td>West Tungao ES</td>\n",
       "      <td>P-25, San Roque, Tungao, ButuanCity</td>\n",
       "      <td>CARAGA</td>\n",
       "      <td>Butuan City</td>\n",
       "      <td>BUTUAN CITY (Capital)</td>\n",
       "      <td>TUNGAO</td>\n",
       "      <td>8.947537</td>\n",
       "      <td>125.540626</td>\n",
       "      <td>1</td>\n",
       "    </tr>\n",
       "  </tbody>\n",
       "</table>\n",
       "</div>"
      ],
      "text/plain": [
       "       SCHOOL ID                SCHOOL NAME  \\\n",
       "2327      102059               Salvacion ES   \n",
       "3908      103178  Rang-ay Elementary School   \n",
       "18640     114603            Tabaco North CS   \n",
       "5275      300505        Cabulay High School   \n",
       "40965     132103             West Tungao ES   \n",
       "\n",
       "                                   ADDRESS     REGION  \\\n",
       "2327                        M. Agustin St.   Region I   \n",
       "3908                        NOT APPLICABLE  Region II   \n",
       "18640                  Bombon, Tabaco City   Region V   \n",
       "5275                  -Blanco St., Purok 3  Region II   \n",
       "40965  P-25, San Roque, Tungao, ButuanCity     CARAGA   \n",
       "\n",
       "                       DIVISION           MUNICIPALITY          BARANGGAY  \\\n",
       "2327   Pangasinan II, Binalonan            SANTO TOMAS          SALVACION   \n",
       "3908                    Isabela               CABATUAN  RANG-AY (CAGGONG)   \n",
       "18640               Tabaco City         CITY OF TABACO      BOMBON (POB.)   \n",
       "5275              Santiago City       CITY OF SANTIAGO            CABULAY   \n",
       "40965               Butuan City  BUTUAN CITY (Capital)             TUNGAO   \n",
       "\n",
       "          LATITUDE   LONGITUDE  MAPPED  \n",
       "2327     15.881154  120.592139       1  \n",
       "3908   16.92228611  121.613419       1  \n",
       "18640    13.361281  123.725157       1  \n",
       "5275     16.719275  121.502084       1  \n",
       "40965     8.947537  125.540626       1  "
      ]
     },
     "execution_count": 188,
     "metadata": {},
     "output_type": "execute_result"
    }
   ],
   "source": [
    "df1r.head(5)"
   ]
  },
  {
   "cell_type": "code",
   "execution_count": 189,
   "metadata": {},
   "outputs": [
    {
     "data": {
      "text/plain": [
       "1000"
      ]
     },
     "execution_count": 189,
     "metadata": {},
     "output_type": "execute_result"
    }
   ],
   "source": [
    "len(df1r)"
   ]
  },
  {
   "cell_type": "code",
   "execution_count": 190,
   "metadata": {},
   "outputs": [],
   "source": [
    "# combine the two lists\n",
    "df_out = pd.concat([df2, df1r])"
   ]
  },
  {
   "cell_type": "code",
   "execution_count": 191,
   "metadata": {},
   "outputs": [
    {
     "data": {
      "text/plain": [
       "(1000, 5144, 6144)"
      ]
     },
     "execution_count": 191,
     "metadata": {},
     "output_type": "execute_result"
    }
   ],
   "source": [
    "len(df1r), len(df2), len(df_out)"
   ]
  },
  {
   "cell_type": "code",
   "execution_count": 192,
   "metadata": {},
   "outputs": [
    {
     "data": {
      "text/html": [
       "<div>\n",
       "<style scoped>\n",
       "    .dataframe tbody tr th:only-of-type {\n",
       "        vertical-align: middle;\n",
       "    }\n",
       "\n",
       "    .dataframe tbody tr th {\n",
       "        vertical-align: top;\n",
       "    }\n",
       "\n",
       "    .dataframe thead th {\n",
       "        text-align: right;\n",
       "    }\n",
       "</style>\n",
       "<table border=\"1\" class=\"dataframe\">\n",
       "  <thead>\n",
       "    <tr style=\"text-align: right;\">\n",
       "      <th></th>\n",
       "      <th>SCHOOL ID</th>\n",
       "      <th>LONGITUDE</th>\n",
       "      <th>MAPPED</th>\n",
       "    </tr>\n",
       "  </thead>\n",
       "  <tbody>\n",
       "    <tr>\n",
       "      <th>count</th>\n",
       "      <td>6.144000e+03</td>\n",
       "      <td>1000.000000</td>\n",
       "      <td>6144.000000</td>\n",
       "    </tr>\n",
       "    <tr>\n",
       "      <th>mean</th>\n",
       "      <td>3.122746e+05</td>\n",
       "      <td>122.860299</td>\n",
       "      <td>0.162760</td>\n",
       "    </tr>\n",
       "    <tr>\n",
       "      <th>std</th>\n",
       "      <td>3.190985e+05</td>\n",
       "      <td>1.809283</td>\n",
       "      <td>0.369177</td>\n",
       "    </tr>\n",
       "    <tr>\n",
       "      <th>min</th>\n",
       "      <td>1.000000e+05</td>\n",
       "      <td>117.243942</td>\n",
       "      <td>0.000000</td>\n",
       "    </tr>\n",
       "    <tr>\n",
       "      <th>25%</th>\n",
       "      <td>1.322652e+05</td>\n",
       "      <td>121.126434</td>\n",
       "      <td>0.000000</td>\n",
       "    </tr>\n",
       "    <tr>\n",
       "      <th>50%</th>\n",
       "      <td>1.805030e+05</td>\n",
       "      <td>122.942761</td>\n",
       "      <td>0.000000</td>\n",
       "    </tr>\n",
       "    <tr>\n",
       "      <th>75%</th>\n",
       "      <td>3.422342e+05</td>\n",
       "      <td>124.438579</td>\n",
       "      <td>0.000000</td>\n",
       "    </tr>\n",
       "    <tr>\n",
       "      <th>max</th>\n",
       "      <td>1.600194e+06</td>\n",
       "      <td>126.383680</td>\n",
       "      <td>1.000000</td>\n",
       "    </tr>\n",
       "  </tbody>\n",
       "</table>\n",
       "</div>"
      ],
      "text/plain": [
       "          SCHOOL ID    LONGITUDE       MAPPED\n",
       "count  6.144000e+03  1000.000000  6144.000000\n",
       "mean   3.122746e+05   122.860299     0.162760\n",
       "std    3.190985e+05     1.809283     0.369177\n",
       "min    1.000000e+05   117.243942     0.000000\n",
       "25%    1.322652e+05   121.126434     0.000000\n",
       "50%    1.805030e+05   122.942761     0.000000\n",
       "75%    3.422342e+05   124.438579     0.000000\n",
       "max    1.600194e+06   126.383680     1.000000"
      ]
     },
     "execution_count": 192,
     "metadata": {},
     "output_type": "execute_result"
    }
   ],
   "source": [
    "df_out.describe()"
   ]
  },
  {
   "cell_type": "code",
   "execution_count": 193,
   "metadata": {},
   "outputs": [
    {
     "data": {
      "text/plain": [
       "6144"
      ]
     },
     "execution_count": 193,
     "metadata": {},
     "output_type": "execute_result"
    }
   ],
   "source": [
    "len(df_out)"
   ]
  },
  {
   "cell_type": "code",
   "execution_count": 194,
   "metadata": {},
   "outputs": [],
   "source": [
    "# define full school name \n",
    "df_out[\"SCHOOL NAME2\"] = df_out[\"SCHOOL NAME\"].str.upper()\n",
    "df_out[\"SCHOOL NAME2\"] = df_out[\"SCHOOL NAME2\"].str.replace(\" CES\", \" Central Elementary School\")\n",
    "df_out[\"SCHOOL NAME2\"] = df_out[\"SCHOOL NAME2\"].str.replace(\" CS\", \" Central School\")\n",
    "df_out[\"SCHOOL NAME2\"] = df_out[\"SCHOOL NAME2\"].str.replace(\" ES\", \" Elementary School\")\n",
    "df_out[\"SCHOOL NAME2\"] = df_out[\"SCHOOL NAME2\"].str.replace(\" E/S\", \" Elementary School\")\n",
    "df_out[\"SCHOOL NAME2\"] = df_out[\"SCHOOL NAME2\"].str.replace(\" ELEM. SCHOOL\", \" Elementary School\")\n",
    "df_out[\"SCHOOL NAME2\"] = df_out[\"SCHOOL NAME2\"].str.replace(\" INTEG. SCH.\", \" Integrated School\")\n",
    "df_out[\"SCHOOL NAME2\"] = df_out[\"SCHOOL NAME2\"].str.replace(\" IS\", \" Integrated School\")\n",
    "df_out[\"SCHOOL NAME2\"] = df_out[\"SCHOOL NAME2\"].str.replace(\" MNHS\", \" Memorial National High School\")\n",
    "df_out[\"SCHOOL NAME2\"] = df_out[\"SCHOOL NAME2\"].str.replace(\" MEM. NATIONAL\", \" Memorial National\")\n",
    "df_out[\"SCHOOL NAME2\"] = df_out[\"SCHOOL NAME2\"].str.replace(\" NHS\", \" National High School\")\n",
    "df_out[\"SCHOOL NAME2\"] = df_out[\"SCHOOL NAME2\"].str.replace(\" SHS\", \" Senior High School\")\n",
    "df_out[\"SCHOOL NAME2\"] = df_out[\"SCHOOL NAME2\"].str.replace(\"SHS \", \"Senior High School \")\n",
    "df_out[\"SCHOOL NAME2\"] = df_out[\"SCHOOL NAME2\"].str.replace(\" HS\", \" High School\")\n",
    "df_out[\"SCHOOL NAME2\"] = df_out[\"SCHOOL NAME2\"].str.replace(\" PS\", \" Primary School\")\n",
    "df_out[\"SCHOOL NAME2\"] = df_out[\"SCHOOL NAME2\"].str.replace(\" P/S\", \" Primary School\")\n",
    "df_out[\"SCHOOL NAME2\"] = df_out[\"SCHOOL NAME2\"].str.replace(\"TUBIGKUTAHPS\", \"TubigKutah Primary School\")\n",
    "df_out[\"SCHOOL NAME2\"] = df_out[\"SCHOOL NAME2\"].str.replace(\"GNHS\", \"Guihulngan National High School\")\n",
    "df_out[\"SCHOOL NAME2\"] = df_out[\"SCHOOL NAME2\"].str.replace(\" VOC\", \" VOCATIONAL\")\n",
    "df_out[\"SCHOOL NAME2\"] = df_out[\"SCHOOL NAME2\"].str.replace(\" NTS\", \" NATIONAL TRADE SCHOOL\")\n",
    "df_out[\"SCHOOL NAME2\"] = df_out[\"SCHOOL NAME2\"].str.replace(\" NSTS\", \" NATIONAL SECONDARY TRADE SCHOOL\")\n",
    "df_out[\"SCHOOL NAME2\"] = df_out[\"SCHOOL NAME2\"].str.replace(\" MS\", \" Memorial School\")\n",
    "df_out[\"SCHOOL NAME2\"] = df_out[\"SCHOOL NAME2\"].str.replace(\" MES\", \" Memorial Elementary School\")\n",
    "df_out[\"SCHOOL NAME2\"] = df_out[\"SCHOOL NAME2\"].str.replace(\" COMM. SCH.\", \" Community School\")\n",
    "df_out[\"SCHOOL NAME2\"] = df_out[\"SCHOOL NAME2\"].str.replace(\" RVS\", \" Rural and Vocational School\")\n",
    "df_out[\"SCHOOL NAME2\"] = df_out[\"SCHOOL NAME2\"].str.replace(\" SOF\", \" School of Fisheries\")\n",
    "df_out[\"SCHOOL NAME2\"] = df_out[\"SCHOOL NAME2\"].str.replace(\"MALAPOC SUR MGS\", \"Malapoc Sur Elementary School\")\n",
    "df_out[\"SCHOOL NAME2\"] = df_out[\"SCHOOL NAME2\"].str.replace(\"PHI SCIENCE\", \"PHILIPPINE SCIENCE\")\n",
    "df_out[\"SCHOOL NAME2\"] = df_out[\"SCHOOL NAME2\"].str.upper()"
   ]
  },
  {
   "cell_type": "code",
   "execution_count": 195,
   "metadata": {},
   "outputs": [],
   "source": [
    "# convert all strings to upper case\n",
    "for col in \"SCHOOL NAME\", \"ADDRESS\", \"REGION\", \"DIVISION\", \"MUNICIPALITY\", \"BARANGGAY\":\n",
    "    df_out[col] = df_out[col].str.upper()"
   ]
  },
  {
   "cell_type": "code",
   "execution_count": 196,
   "metadata": {},
   "outputs": [
    {
     "data": {
      "text/html": [
       "<div>\n",
       "<style scoped>\n",
       "    .dataframe tbody tr th:only-of-type {\n",
       "        vertical-align: middle;\n",
       "    }\n",
       "\n",
       "    .dataframe tbody tr th {\n",
       "        vertical-align: top;\n",
       "    }\n",
       "\n",
       "    .dataframe thead th {\n",
       "        text-align: right;\n",
       "    }\n",
       "</style>\n",
       "<table border=\"1\" class=\"dataframe\">\n",
       "  <thead>\n",
       "    <tr style=\"text-align: right;\">\n",
       "      <th></th>\n",
       "      <th>SCHOOL ID</th>\n",
       "      <th>SCHOOL NAME</th>\n",
       "      <th>ADDRESS</th>\n",
       "      <th>REGION</th>\n",
       "      <th>DIVISION</th>\n",
       "      <th>MUNICIPALITY</th>\n",
       "      <th>BARANGGAY</th>\n",
       "      <th>LATITUDE</th>\n",
       "      <th>LONGITUDE</th>\n",
       "      <th>MAPPED</th>\n",
       "      <th>SCHOOL NAME2</th>\n",
       "    </tr>\n",
       "  </thead>\n",
       "  <tbody>\n",
       "    <tr>\n",
       "      <th>35</th>\n",
       "      <td>500000</td>\n",
       "      <td>CARAITAN INTEGRATED SCHOOL</td>\n",
       "      <td>CARAITAN, BADOC, ILOCOS NORTE</td>\n",
       "      <td>REGION I</td>\n",
       "      <td>ILOCOS NORTE</td>\n",
       "      <td>BADOC</td>\n",
       "      <td>CARAITAN</td>\n",
       "      <td>NaN</td>\n",
       "      <td>NaN</td>\n",
       "      <td>0</td>\n",
       "      <td>CARAITAN INTEGRATED SCHOOL</td>\n",
       "    </tr>\n",
       "    <tr>\n",
       "      <th>174</th>\n",
       "      <td>500594</td>\n",
       "      <td>UGUIS INTEGRATED SCHOOL</td>\n",
       "      <td>BRGY. 9, UGUIS</td>\n",
       "      <td>REGION I</td>\n",
       "      <td>ILOCOS NORTE</td>\n",
       "      <td>NUEVA ERA</td>\n",
       "      <td>UGUIS</td>\n",
       "      <td>NaN</td>\n",
       "      <td>NaN</td>\n",
       "      <td>0</td>\n",
       "      <td>UGUIS INTEGRATED SCHOOL</td>\n",
       "    </tr>\n",
       "  </tbody>\n",
       "</table>\n",
       "</div>"
      ],
      "text/plain": [
       "     SCHOOL ID                 SCHOOL NAME                        ADDRESS  \\\n",
       "35      500000  CARAITAN INTEGRATED SCHOOL  CARAITAN, BADOC, ILOCOS NORTE   \n",
       "174     500594     UGUIS INTEGRATED SCHOOL                 BRGY. 9, UGUIS   \n",
       "\n",
       "       REGION      DIVISION MUNICIPALITY BARANGGAY LATITUDE  LONGITUDE  \\\n",
       "35   REGION I  ILOCOS NORTE        BADOC  CARAITAN      NaN        NaN   \n",
       "174  REGION I  ILOCOS NORTE    NUEVA ERA     UGUIS      NaN        NaN   \n",
       "\n",
       "     MAPPED                SCHOOL NAME2  \n",
       "35        0  CARAITAN INTEGRATED SCHOOL  \n",
       "174       0     UGUIS INTEGRATED SCHOOL  "
      ]
     },
     "execution_count": 196,
     "metadata": {},
     "output_type": "execute_result"
    }
   ],
   "source": [
    "df_out.head(2)"
   ]
  },
  {
   "cell_type": "code",
   "execution_count": 197,
   "metadata": {},
   "outputs": [
    {
     "name": "stderr",
     "output_type": "stream",
     "text": [
      "/opt/anaconda2/lib/python2.7/site-packages/ipykernel_launcher.py:9: SettingWithCopyWarning: \n",
      "A value is trying to be set on a copy of a slice from a DataFrame\n",
      "\n",
      "See the caveats in the documentation: http://pandas.pydata.org/pandas-docs/stable/indexing.html#indexing-view-versus-copy\n",
      "  if __name__ == '__main__':\n",
      "/opt/anaconda2/lib/python2.7/site-packages/ipykernel_launcher.py:12: SettingWithCopyWarning: \n",
      "A value is trying to be set on a copy of a slice from a DataFrame\n",
      "\n",
      "See the caveats in the documentation: http://pandas.pydata.org/pandas-docs/stable/indexing.html#indexing-view-versus-copy\n",
      "  if sys.path[0] == '':\n"
     ]
    }
   ],
   "source": [
    "# create input text address for geocoding\n",
    "# address1 - with school name\n",
    "# address2 - without school name; for validating if coordinates are tied to the school\n",
    "df_out[\"ADDRESS\"] = df_out[\"ADDRESS\"].fillna(\"\")\n",
    "# start with the school name and address\n",
    "address = df_out[\"ADDRESS\"]\n",
    "# if not included, add barangay \n",
    "sub = df_out.loc[df_out[\"BARANGGAY\"].isin(address)==False, \"BARANGGAY\"]\n",
    "address[df_out[\"BARANGGAY\"].isin(address)==False] = address[df_out[\"BARANGGAY\"].isin(address)==False] + \", BRGY. \" + sub \n",
    "# if not included, add municipality\n",
    "sub = df_out.loc[df_out[\"MUNICIPALITY\"].isin(address)==False, \"MUNICIPALITY\"]\n",
    "address[df_out[\"MUNICIPALITY\"].isin(address)==False] = address[df_out[\"MUNICIPALITY\"].isin(address)==False] + \", \" + sub \n",
    "# add country\n",
    "address = address + \", PHILIPPINES\"\n",
    "# set ADDRESS1, ADDRESS2\n",
    "df_out[\"ADDRESS1\"] = df_out[\"SCHOOL NAME2\"] + \", \" + address # with expanded school name\n",
    "df_out[\"ADDRESS2\"] = address"
   ]
  },
  {
   "cell_type": "code",
   "execution_count": 198,
   "metadata": {},
   "outputs": [],
   "source": [
    "df_out.to_csv(fn_out, index=False)"
   ]
  },
  {
   "cell_type": "code",
   "execution_count": 199,
   "metadata": {},
   "outputs": [
    {
     "data": {
      "text/plain": [
       "6144"
      ]
     },
     "execution_count": 199,
     "metadata": {},
     "output_type": "execute_result"
    }
   ],
   "source": [
    "len(df_out)"
   ]
  },
  {
   "cell_type": "code",
   "execution_count": null,
   "metadata": {},
   "outputs": [],
   "source": []
  }
 ],
 "metadata": {
  "kernelspec": {
   "display_name": "Python 2",
   "language": "python",
   "name": "python2"
  },
  "language_info": {
   "codemirror_mode": {
    "name": "ipython",
    "version": 2
   },
   "file_extension": ".py",
   "mimetype": "text/x-python",
   "name": "python",
   "nbconvert_exporter": "python",
   "pygments_lexer": "ipython2",
   "version": "2.7.16"
  }
 },
 "nbformat": 4,
 "nbformat_minor": 2
}
