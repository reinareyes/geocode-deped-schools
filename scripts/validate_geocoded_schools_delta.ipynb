{
 "cells": [
  {
   "cell_type": "code",
   "execution_count": 1,
   "metadata": {},
   "outputs": [],
   "source": [
    "import numpy as np\n",
    "import pandas as pd\n",
    "import matplotlib.pyplot as plt\n",
    "import math\n",
    "import haversine\n",
    "%matplotlib inline"
   ]
  },
  {
   "cell_type": "code",
   "execution_count": 2,
   "metadata": {},
   "outputs": [],
   "source": [
    "fn = \"../data/deped_school_location_with_enrolment_2017_2018_geocoded1.csv\"\n",
    "df = pd.read_csv(fn)"
   ]
  },
  {
   "cell_type": "code",
   "execution_count": 3,
   "metadata": {},
   "outputs": [
    {
     "data": {
      "text/html": [
       "<div>\n",
       "<style scoped>\n",
       "    .dataframe tbody tr th:only-of-type {\n",
       "        vertical-align: middle;\n",
       "    }\n",
       "\n",
       "    .dataframe tbody tr th {\n",
       "        vertical-align: top;\n",
       "    }\n",
       "\n",
       "    .dataframe thead th {\n",
       "        text-align: right;\n",
       "    }\n",
       "</style>\n",
       "<table border=\"1\" class=\"dataframe\">\n",
       "  <thead>\n",
       "    <tr style=\"text-align: right;\">\n",
       "      <th></th>\n",
       "      <th>SCHOOL ID</th>\n",
       "      <th>SCHOOL NAME</th>\n",
       "      <th>ADDRESS</th>\n",
       "      <th>REGION</th>\n",
       "      <th>DIVISION</th>\n",
       "      <th>MUNICIPALITY</th>\n",
       "      <th>BARANGGAY</th>\n",
       "      <th>LATITUDE</th>\n",
       "      <th>LONGITUDE</th>\n",
       "      <th>MAPPED</th>\n",
       "      <th>SCHOOL NAME2</th>\n",
       "      <th>ADDRESS1</th>\n",
       "      <th>ADDRESS2</th>\n",
       "      <th>GMAP_MAPPED</th>\n",
       "      <th>GMAP_LAT1</th>\n",
       "      <th>GMAP_LON1</th>\n",
       "      <th>GMAP_LAT2</th>\n",
       "      <th>GMAP_LON2</th>\n",
       "      <th>GMAP_DELTA_KM</th>\n",
       "    </tr>\n",
       "  </thead>\n",
       "  <tbody>\n",
       "    <tr>\n",
       "      <th>0</th>\n",
       "      <td>500000</td>\n",
       "      <td>CARAITAN INTEGRATED SCHOOL</td>\n",
       "      <td>CARAITAN, BADOC, ILOCOS NORTE, BRGY. CARAITAN,...</td>\n",
       "      <td>REGION I</td>\n",
       "      <td>ILOCOS NORTE</td>\n",
       "      <td>BADOC</td>\n",
       "      <td>CARAITAN</td>\n",
       "      <td>NaN</td>\n",
       "      <td>NaN</td>\n",
       "      <td>0</td>\n",
       "      <td>CARAITAN INTEGRATED SCHOOL</td>\n",
       "      <td>CARAITAN INTEGRATED SCHOOL, CARAITAN, BADOC, I...</td>\n",
       "      <td>CARAITAN, BADOC, ILOCOS NORTE, BRGY. CARAITAN,...</td>\n",
       "      <td>1</td>\n",
       "      <td>17.904161</td>\n",
       "      <td>120.487604</td>\n",
       "      <td>17.904161</td>\n",
       "      <td>120.487604</td>\n",
       "      <td>0.000000</td>\n",
       "    </tr>\n",
       "    <tr>\n",
       "      <th>1</th>\n",
       "      <td>500594</td>\n",
       "      <td>UGUIS INTEGRATED SCHOOL</td>\n",
       "      <td>BRGY. 9, UGUIS, BRGY. UGUIS, NUEVA ERA</td>\n",
       "      <td>REGION I</td>\n",
       "      <td>ILOCOS NORTE</td>\n",
       "      <td>NUEVA ERA</td>\n",
       "      <td>UGUIS</td>\n",
       "      <td>NaN</td>\n",
       "      <td>NaN</td>\n",
       "      <td>0</td>\n",
       "      <td>UGUIS INTEGRATED SCHOOL</td>\n",
       "      <td>UGUIS INTEGRATED SCHOOL, BRGY. 9, UGUIS, BRGY....</td>\n",
       "      <td>BRGY. 9, UGUIS, BRGY. UGUIS, NUEVA ERA, PHILIP...</td>\n",
       "      <td>1</td>\n",
       "      <td>17.941025</td>\n",
       "      <td>120.734843</td>\n",
       "      <td>17.841665</td>\n",
       "      <td>120.575476</td>\n",
       "      <td>20.160737</td>\n",
       "    </tr>\n",
       "  </tbody>\n",
       "</table>\n",
       "</div>"
      ],
      "text/plain": [
       "   SCHOOL ID                 SCHOOL NAME  \\\n",
       "0     500000  CARAITAN INTEGRATED SCHOOL   \n",
       "1     500594     UGUIS INTEGRATED SCHOOL   \n",
       "\n",
       "                                             ADDRESS    REGION      DIVISION  \\\n",
       "0  CARAITAN, BADOC, ILOCOS NORTE, BRGY. CARAITAN,...  REGION I  ILOCOS NORTE   \n",
       "1             BRGY. 9, UGUIS, BRGY. UGUIS, NUEVA ERA  REGION I  ILOCOS NORTE   \n",
       "\n",
       "  MUNICIPALITY BARANGGAY  LATITUDE  LONGITUDE  MAPPED  \\\n",
       "0        BADOC  CARAITAN       NaN        NaN       0   \n",
       "1    NUEVA ERA     UGUIS       NaN        NaN       0   \n",
       "\n",
       "                 SCHOOL NAME2  \\\n",
       "0  CARAITAN INTEGRATED SCHOOL   \n",
       "1     UGUIS INTEGRATED SCHOOL   \n",
       "\n",
       "                                            ADDRESS1  \\\n",
       "0  CARAITAN INTEGRATED SCHOOL, CARAITAN, BADOC, I...   \n",
       "1  UGUIS INTEGRATED SCHOOL, BRGY. 9, UGUIS, BRGY....   \n",
       "\n",
       "                                            ADDRESS2  GMAP_MAPPED  GMAP_LAT1  \\\n",
       "0  CARAITAN, BADOC, ILOCOS NORTE, BRGY. CARAITAN,...            1  17.904161   \n",
       "1  BRGY. 9, UGUIS, BRGY. UGUIS, NUEVA ERA, PHILIP...            1  17.941025   \n",
       "\n",
       "    GMAP_LON1  GMAP_LAT2   GMAP_LON2  GMAP_DELTA_KM  \n",
       "0  120.487604  17.904161  120.487604       0.000000  \n",
       "1  120.734843  17.841665  120.575476      20.160737  "
      ]
     },
     "execution_count": 3,
     "metadata": {},
     "output_type": "execute_result"
    }
   ],
   "source": [
    "df.head(2)"
   ]
  },
  {
   "cell_type": "code",
   "execution_count": 4,
   "metadata": {},
   "outputs": [
    {
     "data": {
      "text/plain": [
       "6144"
      ]
     },
     "execution_count": 4,
     "metadata": {},
     "output_type": "execute_result"
    }
   ],
   "source": [
    "len(df)"
   ]
  },
  {
   "cell_type": "code",
   "execution_count": 5,
   "metadata": {},
   "outputs": [],
   "source": [
    "df1 = df[df[\"MAPPED\"]==1] # baseline: random mapped schools\n",
    "df2 = df[df[\"MAPPED\"]==0] # unmapped schools "
   ]
  },
  {
   "cell_type": "code",
   "execution_count": 6,
   "metadata": {},
   "outputs": [
    {
     "data": {
      "text/plain": [
       "(842, 3659)"
      ]
     },
     "execution_count": 6,
     "metadata": {},
     "output_type": "execute_result"
    }
   ],
   "source": [
    "# filter out schools w/non-specified addresses (GMAP_DELTA_KM = 0)\n",
    "df1b = df1[df1[\"GMAP_DELTA_KM\"]!=0]\n",
    "df2b = df2[df2[\"GMAP_DELTA_KM\"]!=0]\n",
    "len(df1b), len(df2b)"
   ]
  },
  {
   "cell_type": "code",
   "execution_count": 7,
   "metadata": {},
   "outputs": [
    {
     "data": {
      "text/plain": [
       "(0.842, 0.7113141524105754)"
      ]
     },
     "execution_count": 7,
     "metadata": {},
     "output_type": "execute_result"
    }
   ],
   "source": [
    "len(df1b)*1./len(df1), len(df2b)*1./len(df2) # pct. of schools w/specified address"
   ]
  },
  {
   "cell_type": "code",
   "execution_count": 13,
   "metadata": {},
   "outputs": [
    {
     "data": {
      "text/plain": [
       "<matplotlib.axes._subplots.AxesSubplot at 0x114a422d0>"
      ]
     },
     "execution_count": 13,
     "metadata": {},
     "output_type": "execute_result"
    },
    {
     "data": {
      "image/png": "[encoded data removed]",
      "text/plain": [
       "<Figure size 432x288 with 1 Axes>"
      ]
     },
     "metadata": {
      "needs_background": "light"
     },
     "output_type": "display_data"
    }
   ],
   "source": [
    "df1b[\"GMAP_DELTA_KM\"].hist(bins=20, log=True, alpha=0.5)\n",
    "df2b[\"GMAP_DELTA_KM\"].hist(bins=20, log=True, alpha=0.5)"
   ]
  },
  {
   "cell_type": "code",
   "execution_count": 39,
   "metadata": {},
   "outputs": [
    {
     "data": {
      "text/plain": [
       "(3309, 3659, 0.904345449576387)"
      ]
     },
     "execution_count": 39,
     "metadata": {},
     "output_type": "execute_result"
    }
   ],
   "source": [
    "nu1 = len(df2b[df2b[\"GMAP_DELTA_KM\"]<100])\n",
    "nu1, len(df2b), nu1*1./len(df2b)"
   ]
  },
  {
   "cell_type": "code",
   "execution_count": 20,
   "metadata": {},
   "outputs": [],
   "source": [
    "# get delta = distance between DEPED and GMAP coordinates\n",
    "delta = np.zeros(len(df1b)) + np.nan\n",
    "for i in np.arange(len(df1b)):\n",
    "    j = df1b.index[i]\n",
    "    lon1, lat1 = df1b.loc[j, \"LONGITUDE\"], df1b.loc[j, \"LATITUDE\"] # DepEd coordinates\n",
    "    lon2, lat2 = df1b.loc[j, \"GMAP_LON1\"], df1b.loc[j, \"GMAP_LAT1\"] # GMap coordinates\n",
    "    coord1, coord2 = (lon1, lat1), (lon2, lat2)\n",
    "    delta_km = haversine.Haversine(coord1, coord2).km\n",
    "    delta[i] = delta_km"
   ]
  },
  {
   "cell_type": "code",
   "execution_count": 23,
   "metadata": {},
   "outputs": [
    {
     "data": {
      "text/plain": [
       "<matplotlib.axes._subplots.AxesSubplot at 0x114ee4990>"
      ]
     },
     "execution_count": 23,
     "metadata": {},
     "output_type": "execute_result"
    },
    {
     "data": {
      "image/png": "[encoded data removed]",
      "text/plain": [
       "<Figure size 432x288 with 1 Axes>"
      ]
     },
     "metadata": {
      "needs_background": "light"
     },
     "output_type": "display_data"
    }
   ],
   "source": [
    "pd.Series(delta).hist(bins=20, log=True)"
   ]
  },
  {
   "cell_type": "code",
   "execution_count": 25,
   "metadata": {},
   "outputs": [
    {
     "data": {
      "text/plain": [
       "<matplotlib.axes._subplots.AxesSubplot at 0x115251890>"
      ]
     },
     "execution_count": 25,
     "metadata": {},
     "output_type": "execute_result"
    },
    {
     "data": {
      "image/png": "[encoded data removed]",
      "text/plain": [
       "<Figure size 432x288 with 1 Axes>"
      ]
     },
     "metadata": {
      "needs_background": "light"
     },
     "output_type": "display_data"
    }
   ],
   "source": [
    "pd.Series(delta[delta<2000]).hist(bins=20, log=True)"
   ]
  },
  {
   "cell_type": "code",
   "execution_count": 31,
   "metadata": {},
   "outputs": [
    {
     "data": {
      "text/plain": [
       "<matplotlib.axes._subplots.AxesSubplot at 0x1156cc610>"
      ]
     },
     "execution_count": 31,
     "metadata": {},
     "output_type": "execute_result"
    },
    {
     "data": {
      "image/png": "[encoded data removed]",
      "text/plain": [
       "<Figure size 432x288 with 1 Axes>"
      ]
     },
     "metadata": {
      "needs_background": "light"
     },
     "output_type": "display_data"
    }
   ],
   "source": [
    "pd.Series(delta[delta<300]).hist(bins=20, log=True)"
   ]
  },
  {
   "cell_type": "code",
   "execution_count": 27,
   "metadata": {},
   "outputs": [
    {
     "name": "stderr",
     "output_type": "stream",
     "text": [
      "/opt/anaconda2/lib/python2.7/site-packages/ipykernel_launcher.py:1: SettingWithCopyWarning: \n",
      "A value is trying to be set on a copy of a slice from a DataFrame.\n",
      "Try using .loc[row_indexer,col_indexer] = value instead\n",
      "\n",
      "See the caveats in the documentation: http://pandas.pydata.org/pandas-docs/stable/indexing.html#indexing-view-versus-copy\n",
      "  \"\"\"Entry point for launching an IPython kernel.\n"
     ]
    }
   ],
   "source": [
    "df1b[\"DELTA\"] = delta"
   ]
  },
  {
   "cell_type": "code",
   "execution_count": 29,
   "metadata": {},
   "outputs": [
    {
     "data": {
      "text/plain": [
       "[<matplotlib.lines.Line2D at 0x113c70290>]"
      ]
     },
     "execution_count": 29,
     "metadata": {},
     "output_type": "execute_result"
    },
    {
     "data": {
      "image/png": "[encoded data removed]",
      "text/plain": [
       "<Figure size 432x288 with 1 Axes>"
      ]
     },
     "metadata": {
      "needs_background": "light"
     },
     "output_type": "display_data"
    }
   ],
   "source": [
    "x, y = df1b[\"DELTA\"], df1b[\"GMAP_DELTA_KM\"]\n",
    "plt.plot(x, y, 'k.')"
   ]
  },
  {
   "cell_type": "code",
   "execution_count": 30,
   "metadata": {},
   "outputs": [
    {
     "data": {
      "text/plain": [
       "(0, 100)"
      ]
     },
     "execution_count": 30,
     "metadata": {},
     "output_type": "execute_result"
    },
    {
     "data": {
      "image/png": "[encoded data removed]",
      "text/plain": [
       "<Figure size 432x288 with 1 Axes>"
      ]
     },
     "metadata": {
      "needs_background": "light"
     },
     "output_type": "display_data"
    }
   ],
   "source": [
    "plt.plot(x, y, 'k.')\n",
    "plt.xlim(0, 100)\n",
    "plt.ylim(0, 100)"
   ]
  },
  {
   "cell_type": "code",
   "execution_count": 34,
   "metadata": {},
   "outputs": [
    {
     "data": {
      "text/plain": [
       "(737, 0.8752969121140143)"
      ]
     },
     "execution_count": 34,
     "metadata": {},
     "output_type": "execute_result"
    }
   ],
   "source": [
    "n1 = len(df1b[df1b[\"GMAP_DELTA_KM\"]<100.])\n",
    "n1, n1*1./len(df1b)"
   ]
  },
  {
   "cell_type": "code",
   "execution_count": 36,
   "metadata": {},
   "outputs": [
    {
     "data": {
      "text/plain": [
       "(770, 842, 0.9144893111638955)"
      ]
     },
     "execution_count": 36,
     "metadata": {},
     "output_type": "execute_result"
    }
   ],
   "source": [
    "n2 = len(df1b[df1b[\"DELTA\"]<100.])\n",
    "n2, len(df1b), n2*1./len(df1b)"
   ]
  },
  {
   "cell_type": "code",
   "execution_count": 37,
   "metadata": {},
   "outputs": [
    {
     "data": {
      "text/plain": [
       "(730, 842, 0.8669833729216152)"
      ]
     },
     "execution_count": 37,
     "metadata": {},
     "output_type": "execute_result"
    }
   ],
   "source": [
    "n3 = len(df1b[(df1b[\"DELTA\"]<100.) & (df1b[\"GMAP_DELTA_KM\"]<100.)])\n",
    "n3, len(df1b), n3*1./len(df1b)"
   ]
  },
  {
   "cell_type": "code",
   "execution_count": null,
   "metadata": {},
   "outputs": [],
   "source": []
  }
 ],
 "metadata": {
  "kernelspec": {
   "display_name": "Python 2",
   "language": "python",
   "name": "python2"
  },
  "language_info": {
   "codemirror_mode": {
    "name": "ipython",
    "version": 2
   },
   "file_extension": ".py",
   "mimetype": "text/x-python",
   "name": "python",
   "nbconvert_exporter": "python",
   "pygments_lexer": "ipython2",
   "version": "2.7.16"
  }
 },
 "nbformat": 4,
 "nbformat_minor": 2
}
