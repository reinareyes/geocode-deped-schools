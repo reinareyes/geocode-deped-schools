{
 "cells": [
  {
   "cell_type": "code",
   "execution_count": 1,
   "metadata": {},
   "outputs": [],
   "source": [
    "import numpy as np\n",
    "import pandas as pd\n",
    "import haversine\n",
    "import math"
   ]
  },
  {
   "cell_type": "code",
   "execution_count": 57,
   "metadata": {},
   "outputs": [],
   "source": [
    "fn = \"../data/deped_school_location_with_enrolment_2017_2018_geocoded2_intersection.csv\"\n",
    "df = pd.read_csv(fn)"
   ]
  },
  {
   "cell_type": "code",
   "execution_count": 58,
   "metadata": {},
   "outputs": [],
   "source": [
    "# read in raw dataset\n",
    "fn2 = \"../data/deped_school_location_with_enrolment_2017_2018.csv\"\n",
    "df2 = pd.read_csv(fn2)"
   ]
  },
  {
   "cell_type": "code",
   "execution_count": 59,
   "metadata": {},
   "outputs": [],
   "source": [
    "fn_out = \"../data/deped_school_location_with_enrolment_2017_2018_geocoded2_validationB.csv\""
   ]
  },
  {
   "cell_type": "code",
   "execution_count": 61,
   "metadata": {},
   "outputs": [
    {
     "data": {
      "text/plain": [
       "(483, 47358, 0.9621513944223108)"
      ]
     },
     "execution_count": 61,
     "metadata": {},
     "output_type": "execute_result"
    }
   ],
   "source": [
    "len(df), len(df2), len(df)*1./502"
   ]
  },
  {
   "cell_type": "code",
   "execution_count": 62,
   "metadata": {},
   "outputs": [
    {
     "data": {
      "text/plain": [
       "Index([u'SCHOOL ID', u'SCHOOL NAME', u'ADDRESS', u'REGION', u'DIVISION',\n",
       "       u'MUNICIPALITY', u'BARANGGAY', u'LATITUDE', u'LONGITUDE', u'MAPPED',\n",
       "       u'INVALID', u'Reg_Code', u'Reg_Name', u'Pro_Code', u'Pro_Name',\n",
       "       u'Mun_Code', u'Mun_Name', u'Bgy_Code', u'Bgy_Name', u'MATCH_BARANGAY',\n",
       "       u'MATCH_MUNICIPALITY', u'MATCH_REGION', u'SCHOOL NAME2', u'ADDRESS1',\n",
       "       u'ADDRESS2', u'GMAP_MAPPED', u'GMAP_LAT1', u'GMAP_LON1', u'GMAP_LAT2',\n",
       "       u'GMAP_LON2', u'GMAP_DELTA_KM', u'Reg_Code_2', u'Reg_Name_2',\n",
       "       u'Pro_Code_2', u'Pro_Name_2', u'Mun_Code_2', u'Mun_Name_2',\n",
       "       u'Bgy_Code_2', u'Bgy_Name_2'],\n",
       "      dtype='object')"
      ]
     },
     "execution_count": 62,
     "metadata": {},
     "output_type": "execute_result"
    }
   ],
   "source": [
    "df.columns"
   ]
  },
  {
   "cell_type": "code",
   "execution_count": 63,
   "metadata": {},
   "outputs": [
    {
     "data": {
      "text/html": [
       "<div>\n",
       "<style scoped>\n",
       "    .dataframe tbody tr th:only-of-type {\n",
       "        vertical-align: middle;\n",
       "    }\n",
       "\n",
       "    .dataframe tbody tr th {\n",
       "        vertical-align: top;\n",
       "    }\n",
       "\n",
       "    .dataframe thead th {\n",
       "        text-align: right;\n",
       "    }\n",
       "</style>\n",
       "<table border=\"1\" class=\"dataframe\">\n",
       "  <thead>\n",
       "    <tr style=\"text-align: right;\">\n",
       "      <th></th>\n",
       "      <th>SCHOOL ID</th>\n",
       "      <th>SCHOOL NAME</th>\n",
       "      <th>ADDRESS</th>\n",
       "      <th>REGION</th>\n",
       "      <th>DIVISION</th>\n",
       "      <th>MUNICIPALITY</th>\n",
       "      <th>BARANGGAY</th>\n",
       "      <th>LATITUDE</th>\n",
       "      <th>LONGITUDE</th>\n",
       "      <th>MAPPED</th>\n",
       "      <th>...</th>\n",
       "      <th>GMAP_LON2</th>\n",
       "      <th>GMAP_DELTA_KM</th>\n",
       "      <th>Reg_Code_2</th>\n",
       "      <th>Reg_Name_2</th>\n",
       "      <th>Pro_Code_2</th>\n",
       "      <th>Pro_Name_2</th>\n",
       "      <th>Mun_Code_2</th>\n",
       "      <th>Mun_Name_2</th>\n",
       "      <th>Bgy_Code_2</th>\n",
       "      <th>Bgy_Name_2</th>\n",
       "    </tr>\n",
       "  </thead>\n",
       "  <tbody>\n",
       "    <tr>\n",
       "      <th>0</th>\n",
       "      <td>100850</td>\n",
       "      <td>NANGALISAN ES</td>\n",
       "      <td>-, BRGY. NANGALISAN, BACNOTAN</td>\n",
       "      <td>REGION I</td>\n",
       "      <td>LA UNION</td>\n",
       "      <td>BACNOTAN</td>\n",
       "      <td>NANGALISAN</td>\n",
       "      <td>16.434103</td>\n",
       "      <td>120.479775</td>\n",
       "      <td>1</td>\n",
       "      <td>...</td>\n",
       "      <td>120.353640</td>\n",
       "      <td>0.106399</td>\n",
       "      <td>PH010000000</td>\n",
       "      <td>REGION I (ILOCOS REGION)</td>\n",
       "      <td>PH013300000</td>\n",
       "      <td>LA UNION</td>\n",
       "      <td>PH013303000</td>\n",
       "      <td>BACNOTAN</td>\n",
       "      <td>PH013303025</td>\n",
       "      <td>Nangalisan</td>\n",
       "    </tr>\n",
       "    <tr>\n",
       "      <th>1</th>\n",
       "      <td>100864</td>\n",
       "      <td>LIBBO ES</td>\n",
       "      <td>LIBBO, BAGULIN ,LA UNION, BRGY. LIBBO, BAGULIN</td>\n",
       "      <td>REGION I</td>\n",
       "      <td>LA UNION</td>\n",
       "      <td>BAGULIN</td>\n",
       "      <td>LIBBO</td>\n",
       "      <td>16.570025</td>\n",
       "      <td>120.524387</td>\n",
       "      <td>1</td>\n",
       "      <td>...</td>\n",
       "      <td>120.519274</td>\n",
       "      <td>2.805844</td>\n",
       "      <td>PH010000000</td>\n",
       "      <td>REGION I (ILOCOS REGION)</td>\n",
       "      <td>PH013300000</td>\n",
       "      <td>LA UNION</td>\n",
       "      <td>PH013304000</td>\n",
       "      <td>BAGULIN</td>\n",
       "      <td>PH013304006</td>\n",
       "      <td>Libbo</td>\n",
       "    </tr>\n",
       "  </tbody>\n",
       "</table>\n",
       "<p>2 rows × 39 columns</p>\n",
       "</div>"
      ],
      "text/plain": [
       "   SCHOOL ID    SCHOOL NAME                                         ADDRESS  \\\n",
       "0     100850  NANGALISAN ES                   -, BRGY. NANGALISAN, BACNOTAN   \n",
       "1     100864       LIBBO ES  LIBBO, BAGULIN ,LA UNION, BRGY. LIBBO, BAGULIN   \n",
       "\n",
       "     REGION  DIVISION MUNICIPALITY   BARANGGAY   LATITUDE   LONGITUDE  MAPPED  \\\n",
       "0  REGION I  LA UNION     BACNOTAN  NANGALISAN  16.434103  120.479775       1   \n",
       "1  REGION I  LA UNION      BAGULIN       LIBBO  16.570025  120.524387       1   \n",
       "\n",
       "   ...   GMAP_LON2 GMAP_DELTA_KM   Reg_Code_2                Reg_Name_2  \\\n",
       "0  ...  120.353640      0.106399  PH010000000  REGION I (ILOCOS REGION)   \n",
       "1  ...  120.519274      2.805844  PH010000000  REGION I (ILOCOS REGION)   \n",
       "\n",
       "    Pro_Code_2 Pro_Name_2   Mun_Code_2 Mun_Name_2   Bgy_Code_2  Bgy_Name_2  \n",
       "0  PH013300000   LA UNION  PH013303000   BACNOTAN  PH013303025  Nangalisan  \n",
       "1  PH013300000   LA UNION  PH013304000    BAGULIN  PH013304006       Libbo  \n",
       "\n",
       "[2 rows x 39 columns]"
      ]
     },
     "execution_count": 63,
     "metadata": {},
     "output_type": "execute_result"
    }
   ],
   "source": [
    "df.head(2)"
   ]
  },
  {
   "cell_type": "code",
   "execution_count": 64,
   "metadata": {},
   "outputs": [],
   "source": [
    "# convert to upper case\n",
    "for col in \"REGION\", \"MUNICIPALITY\", \"BARANGGAY\", \"Bgy_Name_2\", \"Mun_Name_2\", \"Reg_Name_2\":\n",
    "    df[col] = df[col].str.upper()"
   ]
  },
  {
   "cell_type": "code",
   "execution_count": 65,
   "metadata": {},
   "outputs": [],
   "source": [
    "# compare strings - check if one is a substring of the other\n",
    "df[\"MATCH_BARANGAY\"] = np.nan\n",
    "df[\"MATCH_MUNICIPALITY\"] = np.nan\n",
    "df[\"MATCH_REGION\"] = np.nan\n",
    "col1 = [\"Bgy_Name_2\", \"Mun_Name_2\", \"Reg_Name_2\"]\n",
    "col2 = [\"BARANGGAY\", \"MUNICIPALITY\", \"REGION\"]\n",
    "col_out = [\"MATCH_BARANGAY\", \"MATCH_MUNICIPALITY\", \"MATCH_REGION\"]\n",
    "for i in np.arange(len(df)):\n",
    "    row = df.loc[i]\n",
    "    for j in np.arange(3):\n",
    "        str1, str2 = row[col1[j]], row[col2[j]]\n",
    "        if (str1 in str2) or (str2 in str1):\n",
    "            match = 1\n",
    "        else:\n",
    "            match = 0\n",
    "        df.loc[i, col_out[j]] = match"
   ]
  },
  {
   "cell_type": "code",
   "execution_count": 66,
   "metadata": {},
   "outputs": [
    {
     "data": {
      "text/plain": [
       "Index([u'SCHOOL ID', u'SCHOOL NAME', u'ADDRESS', u'REGION', u'DIVISION',\n",
       "       u'MUNICIPALITY', u'BARANGGAY', u'LATITUDE', u'LONGITUDE', u'MAPPED',\n",
       "       u'INVALID', u'Reg_Code', u'Reg_Name', u'Pro_Code', u'Pro_Name',\n",
       "       u'Mun_Code', u'Mun_Name', u'Bgy_Code', u'Bgy_Name', u'MATCH_BARANGAY',\n",
       "       u'MATCH_MUNICIPALITY', u'MATCH_REGION', u'SCHOOL NAME2', u'ADDRESS1',\n",
       "       u'ADDRESS2', u'GMAP_MAPPED', u'GMAP_LAT1', u'GMAP_LON1', u'GMAP_LAT2',\n",
       "       u'GMAP_LON2', u'GMAP_DELTA_KM', u'Reg_Code_2', u'Reg_Name_2',\n",
       "       u'Pro_Code_2', u'Pro_Name_2', u'Mun_Code_2', u'Mun_Name_2',\n",
       "       u'Bgy_Code_2', u'Bgy_Name_2'],\n",
       "      dtype='object')"
      ]
     },
     "execution_count": 66,
     "metadata": {},
     "output_type": "execute_result"
    }
   ],
   "source": [
    "df.columns"
   ]
  },
  {
   "cell_type": "code",
   "execution_count": 67,
   "metadata": {},
   "outputs": [
    {
     "data": {
      "text/plain": [
       "(483, 0.9621513944223108)"
      ]
     },
     "execution_count": 67,
     "metadata": {},
     "output_type": "execute_result"
    }
   ],
   "source": [
    "len(df), len(df)*1./502"
   ]
  },
  {
   "cell_type": "code",
   "execution_count": 68,
   "metadata": {},
   "outputs": [
    {
     "data": {
      "text/plain": [
       "1    483\n",
       "Name: MAPPED, dtype: int64"
      ]
     },
     "execution_count": 68,
     "metadata": {},
     "output_type": "execute_result"
    }
   ],
   "source": [
    "df[\"MAPPED\"].value_counts()"
   ]
  },
  {
   "cell_type": "code",
   "execution_count": 69,
   "metadata": {},
   "outputs": [],
   "source": [
    "# define INVALID = 1, if both municipality and region does not match\n",
    "df[\"INVALID\"] = 0\n",
    "df.loc[(df[col_out[2]]==0) & (df[col_out[1]]==0), \"INVALID\"] = 1"
   ]
  },
  {
   "cell_type": "code",
   "execution_count": 70,
   "metadata": {},
   "outputs": [
    {
     "data": {
      "text/plain": [
       "0    436\n",
       "1     47\n",
       "Name: INVALID, dtype: int64"
      ]
     },
     "execution_count": 70,
     "metadata": {},
     "output_type": "execute_result"
    }
   ],
   "source": [
    "df[\"INVALID\"].value_counts()"
   ]
  },
  {
   "cell_type": "code",
   "execution_count": 79,
   "metadata": {},
   "outputs": [
    {
     "data": {
      "text/plain": [
       "0.09730848861283643"
      ]
     },
     "execution_count": 79,
     "metadata": {},
     "output_type": "execute_result"
    }
   ],
   "source": [
    "47./483"
   ]
  },
  {
   "cell_type": "code",
   "execution_count": 71,
   "metadata": {},
   "outputs": [
    {
     "data": {
      "text/plain": [
       "0.0    0.534161\n",
       "1.0    0.465839\n",
       "Name: MATCH_BARANGAY, dtype: float64"
      ]
     },
     "execution_count": 71,
     "metadata": {},
     "output_type": "execute_result"
    }
   ],
   "source": [
    "df[col_out[0]].value_counts(1)"
   ]
  },
  {
   "cell_type": "code",
   "execution_count": 72,
   "metadata": {},
   "outputs": [
    {
     "data": {
      "text/plain": [
       "1.0    0.817805\n",
       "0.0    0.182195\n",
       "Name: MATCH_MUNICIPALITY, dtype: float64"
      ]
     },
     "execution_count": 72,
     "metadata": {},
     "output_type": "execute_result"
    }
   ],
   "source": [
    "df[col_out[1]].value_counts(1)"
   ]
  },
  {
   "cell_type": "code",
   "execution_count": 73,
   "metadata": {},
   "outputs": [
    {
     "data": {
      "text/plain": [
       "1.0    0.724638\n",
       "0.0    0.275362\n",
       "Name: MATCH_REGION, dtype: float64"
      ]
     },
     "execution_count": 73,
     "metadata": {},
     "output_type": "execute_result"
    }
   ],
   "source": [
    "df[col_out[2]].value_counts(1)"
   ]
  },
  {
   "cell_type": "code",
   "execution_count": 74,
   "metadata": {},
   "outputs": [
    {
     "data": {
      "text/html": [
       "<div>\n",
       "<style scoped>\n",
       "    .dataframe tbody tr th:only-of-type {\n",
       "        vertical-align: middle;\n",
       "    }\n",
       "\n",
       "    .dataframe tbody tr th {\n",
       "        vertical-align: top;\n",
       "    }\n",
       "\n",
       "    .dataframe thead th {\n",
       "        text-align: right;\n",
       "    }\n",
       "</style>\n",
       "<table border=\"1\" class=\"dataframe\">\n",
       "  <thead>\n",
       "    <tr style=\"text-align: right;\">\n",
       "      <th></th>\n",
       "      <th>SCHOOL ID</th>\n",
       "      <th>SCHOOL NAME</th>\n",
       "      <th>ADDRESS</th>\n",
       "      <th>REGION</th>\n",
       "      <th>DIVISION</th>\n",
       "      <th>MUNICIPALITY</th>\n",
       "      <th>BARANGGAY</th>\n",
       "      <th>LATITUDE</th>\n",
       "      <th>LONGITUDE</th>\n",
       "      <th>MAPPED</th>\n",
       "      <th>...</th>\n",
       "      <th>GMAP_LON2</th>\n",
       "      <th>GMAP_DELTA_KM</th>\n",
       "      <th>Reg_Code_2</th>\n",
       "      <th>Reg_Name_2</th>\n",
       "      <th>Pro_Code_2</th>\n",
       "      <th>Pro_Name_2</th>\n",
       "      <th>Mun_Code_2</th>\n",
       "      <th>Mun_Name_2</th>\n",
       "      <th>Bgy_Code_2</th>\n",
       "      <th>Bgy_Name_2</th>\n",
       "    </tr>\n",
       "  </thead>\n",
       "  <tbody>\n",
       "    <tr>\n",
       "      <th>0</th>\n",
       "      <td>100850</td>\n",
       "      <td>NANGALISAN ES</td>\n",
       "      <td>-, BRGY. NANGALISAN, BACNOTAN</td>\n",
       "      <td>REGION I</td>\n",
       "      <td>LA UNION</td>\n",
       "      <td>BACNOTAN</td>\n",
       "      <td>NANGALISAN</td>\n",
       "      <td>16.434103</td>\n",
       "      <td>120.479775</td>\n",
       "      <td>1</td>\n",
       "      <td>...</td>\n",
       "      <td>120.353640</td>\n",
       "      <td>0.106399</td>\n",
       "      <td>PH010000000</td>\n",
       "      <td>REGION I (ILOCOS REGION)</td>\n",
       "      <td>PH013300000</td>\n",
       "      <td>LA UNION</td>\n",
       "      <td>PH013303000</td>\n",
       "      <td>BACNOTAN</td>\n",
       "      <td>PH013303025</td>\n",
       "      <td>NANGALISAN</td>\n",
       "    </tr>\n",
       "    <tr>\n",
       "      <th>1</th>\n",
       "      <td>100864</td>\n",
       "      <td>LIBBO ES</td>\n",
       "      <td>LIBBO, BAGULIN ,LA UNION, BRGY. LIBBO, BAGULIN</td>\n",
       "      <td>REGION I</td>\n",
       "      <td>LA UNION</td>\n",
       "      <td>BAGULIN</td>\n",
       "      <td>LIBBO</td>\n",
       "      <td>16.570025</td>\n",
       "      <td>120.524387</td>\n",
       "      <td>1</td>\n",
       "      <td>...</td>\n",
       "      <td>120.519274</td>\n",
       "      <td>2.805844</td>\n",
       "      <td>PH010000000</td>\n",
       "      <td>REGION I (ILOCOS REGION)</td>\n",
       "      <td>PH013300000</td>\n",
       "      <td>LA UNION</td>\n",
       "      <td>PH013304000</td>\n",
       "      <td>BAGULIN</td>\n",
       "      <td>PH013304006</td>\n",
       "      <td>LIBBO</td>\n",
       "    </tr>\n",
       "    <tr>\n",
       "      <th>2</th>\n",
       "      <td>101000</td>\n",
       "      <td>PALINA ES</td>\n",
       "      <td>MARCOS HI-WAY, BRGY. PALINA, PUGO</td>\n",
       "      <td>REGION I</td>\n",
       "      <td>LA UNION</td>\n",
       "      <td>PUGO</td>\n",
       "      <td>PALINA</td>\n",
       "      <td>16.342535</td>\n",
       "      <td>120.493935</td>\n",
       "      <td>1</td>\n",
       "      <td>...</td>\n",
       "      <td>120.489945</td>\n",
       "      <td>7.624803</td>\n",
       "      <td>PH010000000</td>\n",
       "      <td>REGION I (ILOCOS REGION)</td>\n",
       "      <td>PH013300000</td>\n",
       "      <td>LA UNION</td>\n",
       "      <td>PH013313000</td>\n",
       "      <td>ROSARIO</td>\n",
       "      <td>PH013313027</td>\n",
       "      <td>SAN JOSE</td>\n",
       "    </tr>\n",
       "    <tr>\n",
       "      <th>3</th>\n",
       "      <td>101008</td>\n",
       "      <td>CARUNOAN ES</td>\n",
       "      <td>-, BRGY. CARUNUAN EAST, ROSARIO</td>\n",
       "      <td>REGION I</td>\n",
       "      <td>LA UNION</td>\n",
       "      <td>ROSARIO</td>\n",
       "      <td>CARUNUAN EAST</td>\n",
       "      <td>16.153600</td>\n",
       "      <td>120.271477</td>\n",
       "      <td>1</td>\n",
       "      <td>...</td>\n",
       "      <td>120.470286</td>\n",
       "      <td>3.863359</td>\n",
       "      <td>PH010000000</td>\n",
       "      <td>REGION I (ILOCOS REGION)</td>\n",
       "      <td>PH013300000</td>\n",
       "      <td>LA UNION</td>\n",
       "      <td>PH013313000</td>\n",
       "      <td>ROSARIO</td>\n",
       "      <td>PH013313010</td>\n",
       "      <td>CARUNUAN EAST</td>\n",
       "    </tr>\n",
       "    <tr>\n",
       "      <th>4</th>\n",
       "      <td>101054</td>\n",
       "      <td>NAYBA ES</td>\n",
       "      <td>-, BRGY. APAYAO, SAN GABRIEL</td>\n",
       "      <td>REGION I</td>\n",
       "      <td>LA UNION</td>\n",
       "      <td>SAN GABRIEL</td>\n",
       "      <td>APAYAO</td>\n",
       "      <td>16.642738</td>\n",
       "      <td>120.546997</td>\n",
       "      <td>1</td>\n",
       "      <td>...</td>\n",
       "      <td>120.548464</td>\n",
       "      <td>16.018998</td>\n",
       "      <td>PH010000000</td>\n",
       "      <td>REGION I (ILOCOS REGION)</td>\n",
       "      <td>PH013300000</td>\n",
       "      <td>LA UNION</td>\n",
       "      <td>PH013315000</td>\n",
       "      <td>SAN GABRIEL</td>\n",
       "      <td>PH013315019</td>\n",
       "      <td>POBLACION</td>\n",
       "    </tr>\n",
       "  </tbody>\n",
       "</table>\n",
       "<p>5 rows × 39 columns</p>\n",
       "</div>"
      ],
      "text/plain": [
       "   SCHOOL ID    SCHOOL NAME                                         ADDRESS  \\\n",
       "0     100850  NANGALISAN ES                   -, BRGY. NANGALISAN, BACNOTAN   \n",
       "1     100864       LIBBO ES  LIBBO, BAGULIN ,LA UNION, BRGY. LIBBO, BAGULIN   \n",
       "2     101000      PALINA ES               MARCOS HI-WAY, BRGY. PALINA, PUGO   \n",
       "3     101008    CARUNOAN ES                 -, BRGY. CARUNUAN EAST, ROSARIO   \n",
       "4     101054       NAYBA ES                    -, BRGY. APAYAO, SAN GABRIEL   \n",
       "\n",
       "     REGION  DIVISION MUNICIPALITY      BARANGGAY   LATITUDE   LONGITUDE  \\\n",
       "0  REGION I  LA UNION     BACNOTAN     NANGALISAN  16.434103  120.479775   \n",
       "1  REGION I  LA UNION      BAGULIN          LIBBO  16.570025  120.524387   \n",
       "2  REGION I  LA UNION         PUGO         PALINA  16.342535  120.493935   \n",
       "3  REGION I  LA UNION      ROSARIO  CARUNUAN EAST  16.153600  120.271477   \n",
       "4  REGION I  LA UNION  SAN GABRIEL         APAYAO  16.642738  120.546997   \n",
       "\n",
       "   MAPPED  ...   GMAP_LON2 GMAP_DELTA_KM   Reg_Code_2  \\\n",
       "0       1  ...  120.353640      0.106399  PH010000000   \n",
       "1       1  ...  120.519274      2.805844  PH010000000   \n",
       "2       1  ...  120.489945      7.624803  PH010000000   \n",
       "3       1  ...  120.470286      3.863359  PH010000000   \n",
       "4       1  ...  120.548464     16.018998  PH010000000   \n",
       "\n",
       "                 Reg_Name_2   Pro_Code_2 Pro_Name_2   Mun_Code_2   Mun_Name_2  \\\n",
       "0  REGION I (ILOCOS REGION)  PH013300000   LA UNION  PH013303000     BACNOTAN   \n",
       "1  REGION I (ILOCOS REGION)  PH013300000   LA UNION  PH013304000      BAGULIN   \n",
       "2  REGION I (ILOCOS REGION)  PH013300000   LA UNION  PH013313000      ROSARIO   \n",
       "3  REGION I (ILOCOS REGION)  PH013300000   LA UNION  PH013313000      ROSARIO   \n",
       "4  REGION I (ILOCOS REGION)  PH013300000   LA UNION  PH013315000  SAN GABRIEL   \n",
       "\n",
       "    Bgy_Code_2     Bgy_Name_2  \n",
       "0  PH013303025     NANGALISAN  \n",
       "1  PH013304006          LIBBO  \n",
       "2  PH013313027       SAN JOSE  \n",
       "3  PH013313010  CARUNUAN EAST  \n",
       "4  PH013315019      POBLACION  \n",
       "\n",
       "[5 rows x 39 columns]"
      ]
     },
     "execution_count": 74,
     "metadata": {},
     "output_type": "execute_result"
    }
   ],
   "source": [
    "df.head()"
   ]
  },
  {
   "cell_type": "code",
   "execution_count": 75,
   "metadata": {},
   "outputs": [],
   "source": [
    "# merge with raw dataset "
   ]
  },
  {
   "cell_type": "code",
   "execution_count": 76,
   "metadata": {},
   "outputs": [],
   "source": [
    "df_out = pd.merge(df2, df[[u'SCHOOL ID', 'INVALID', u'GMAP_MAPPED', u'GMAP_LAT1',\n",
    "       u'GMAP_LON1', u'GMAP_LAT2', u'GMAP_LON2', u'GMAP_DELTA_KM',\n",
    "       u'Reg_Code_2', u'Reg_Name_2', u'Pro_Code_2', u'Pro_Name_2', u'Mun_Code_2',\n",
    "       u'Mun_Name_2', u'Bgy_Code_2', u'Bgy_Name_2', \"MATCH_BARANGAY\", \"MATCH_MUNICIPALITY\", \"MATCH_REGION\"]], on=\"SCHOOL ID\", how=\"left\")"
   ]
  },
  {
   "cell_type": "code",
   "execution_count": 77,
   "metadata": {},
   "outputs": [
    {
     "data": {
      "text/plain": [
       "Index([u'SCHOOL ID', u'SCHOOL NAME', u'ADDRESS', u'REGION', u'DIVISION',\n",
       "       u'MUNICIPALITY', u'BARANGGAY', u'LATITUDE', u'LONGITUDE', u'MAPPED',\n",
       "       u'INVALID', u'GMAP_MAPPED', u'GMAP_LAT1', u'GMAP_LON1', u'GMAP_LAT2',\n",
       "       u'GMAP_LON2', u'GMAP_DELTA_KM', u'Reg_Code_2', u'Reg_Name_2',\n",
       "       u'Pro_Code_2', u'Pro_Name_2', u'Mun_Code_2', u'Mun_Name_2',\n",
       "       u'Bgy_Code_2', u'Bgy_Name_2', u'MATCH_BARANGAY', u'MATCH_MUNICIPALITY',\n",
       "       u'MATCH_REGION'],\n",
       "      dtype='object')"
      ]
     },
     "execution_count": 77,
     "metadata": {},
     "output_type": "execute_result"
    }
   ],
   "source": [
    "df_out.columns"
   ]
  },
  {
   "cell_type": "code",
   "execution_count": 78,
   "metadata": {},
   "outputs": [],
   "source": [
    "df_out.to_csv(fn_out, index=False)"
   ]
  },
  {
   "cell_type": "code",
   "execution_count": null,
   "metadata": {},
   "outputs": [],
   "source": []
  }
 ],
 "metadata": {
  "kernelspec": {
   "display_name": "Python 2",
   "language": "python",
   "name": "python2"
  },
  "language_info": {
   "codemirror_mode": {
    "name": "ipython",
    "version": 2
   },
   "file_extension": ".py",
   "mimetype": "text/x-python",
   "name": "python",
   "nbconvert_exporter": "python",
   "pygments_lexer": "ipython2",
   "version": "2.7.16"
  }
 },
 "nbformat": 4,
 "nbformat_minor": 2
}
